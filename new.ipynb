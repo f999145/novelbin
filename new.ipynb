{
 "cells": [
  {
   "cell_type": "code",
   "execution_count": 2,
   "metadata": {},
   "outputs": [],
   "source": [
    "from bs4 import BeautifulSoup as BS\n",
    "import re\n",
    "from time import sleep\n",
    "import requests\n",
    "from yandexfreetranslate import YandexFreeTranslate\n",
    "from multiprocessing.dummy import Pool as ThreadPool\n",
    "from tqdm.notebook import tqdm"
   ]
  },
  {
   "cell_type": "code",
   "execution_count": 3,
   "metadata": {},
   "outputs": [],
   "source": [
    "params = {\n",
    "    'novelId': 'genetic-ascension',\n",
    "}\n",
    "\n",
    "res_links = requests.get('https://novelbjn.novelupdates.net/ajax/chapter-option', params=params)\n",
    "page = BS(res_links.text, 'html.parser')\n",
    "links = list(map(lambda x: x.get('value'), page.find('body').find_all('option')))\n"
   ]
  },
  {
   "cell_type": "code",
   "execution_count": 4,
   "metadata": {},
   "outputs": [],
   "source": [
    "book = []"
   ]
  },
  {
   "cell_type": "code",
   "execution_count": 5,
   "metadata": {},
   "outputs": [
    {
     "data": {
      "application/vnd.jupyter.widget-view+json": {
       "model_id": "c70afa0d40be4a3690f2b9163bc011c9",
       "version_major": 2,
       "version_minor": 0
      },
      "text/plain": [
       "  0%|          | 0/243 [00:00<?, ?it/s]"
      ]
     },
     "metadata": {},
     "output_type": "display_data"
    }
   ],
   "source": [
    "start = 0\n",
    "for index, url in tqdm(list(enumerate(links))[start:]):\n",
    "    headers = {\n",
    "        'user-agent': 'Mozilla/5.0 (Windows NT 10.0; Win64; x64) AppleWebKit/537.36 (KHTML, like Gecko) Chrome/127.0.0.0 Safari/537.36',\n",
    "    }\n",
    "\n",
    "    res_page = requests.get(\n",
    "        url,\n",
    "        headers=headers,\n",
    "    )\n",
    "    page = BS(res_page.text, 'html.parser').find('div', id='chr-content')\n",
    "    \n",
    "\n",
    "    \n",
    "    paragraphs = [tag.text.strip() for tag in page.find('div').next_siblings if tag.name in ['p', 'h4', 'h3']]\n",
    "    book.append(paragraphs)"
   ]
  },
  {
   "cell_type": "code",
   "execution_count": 6,
   "metadata": {},
   "outputs": [],
   "source": [
    "def _worker(pool_list: tuple[str, tqdm]) -> str:\n",
    "    queue, pbar = pool_list\n",
    "    if not queue.strip():\n",
    "        pbar.update(1)\n",
    "        return ''\n",
    "    yt = YandexFreeTranslate(api = \"ios\")\n",
    "    \n",
    "    for _ in range(10):\n",
    "        try:\n",
    "            text = yt.translate(\"en\", \"ru\", queue)\n",
    "        except Exception:\n",
    "            sleep(0.5)\n",
    "            continue\n",
    "        else:\n",
    "            break\n",
    "    else:\n",
    "        text = queue\n",
    "        pbar.write(str(queue))\n",
    "    pbar.update(1)\n",
    "    return text\n",
    "    \n",
    "\n",
    "def run_translate(lst: list[str])-> list[str]:\n",
    "    with tqdm(total=len(lst), desc='page', leave=False) as pbar:\n",
    "        pool_list = list(zip(lst, [pbar]*len(lst)))\n",
    "        with ThreadPool(8) as pool:\n",
    "            workreturn = pool.map(_worker, pool_list)\n",
    "    return workreturn"
   ]
  },
  {
   "cell_type": "code",
   "execution_count": 7,
   "metadata": {},
   "outputs": [],
   "source": [
    "new_book = []"
   ]
  },
  {
   "cell_type": "code",
   "execution_count": 8,
   "metadata": {},
   "outputs": [
    {
     "data": {
      "application/vnd.jupyter.widget-view+json": {
       "model_id": "359b50aadde949b7aa439c9c7a1e08c2",
       "version_major": 2,
       "version_minor": 0
      },
      "text/plain": [
       "page:   0%|          | 0/243 [00:00<?, ?it/s]"
      ]
     },
     "metadata": {},
     "output_type": "display_data"
    },
    {
     "data": {
      "application/vnd.jupyter.widget-view+json": {
       "model_id": "449aa78e0efe4937bb5a7051c3f34938",
       "version_major": 2,
       "version_minor": 0
      },
      "text/plain": [
       "page:   0%|          | 0/128 [00:00<?, ?it/s]"
      ]
     },
     "metadata": {},
     "output_type": "display_data"
    },
    {
     "data": {
      "application/vnd.jupyter.widget-view+json": {
       "model_id": "7253b4a4b0b8491bbe78f4227fe8517a",
       "version_major": 2,
       "version_minor": 0
      },
      "text/plain": [
       "page:   0%|          | 0/33 [00:00<?, ?it/s]"
      ]
     },
     "metadata": {},
     "output_type": "display_data"
    },
    {
     "data": {
      "application/vnd.jupyter.widget-view+json": {
       "model_id": "0cd6fe5eb1174225b1fa74d6cda3f0bf",
       "version_major": 2,
       "version_minor": 0
      },
      "text/plain": [
       "page:   0%|          | 0/43 [00:00<?, ?it/s]"
      ]
     },
     "metadata": {},
     "output_type": "display_data"
    },
    {
     "data": {
      "application/vnd.jupyter.widget-view+json": {
       "model_id": "766fb80f54ef4a77b9d6a31a299cf7af",
       "version_major": 2,
       "version_minor": 0
      },
      "text/plain": [
       "page:   0%|          | 0/64 [00:00<?, ?it/s]"
      ]
     },
     "metadata": {},
     "output_type": "display_data"
    },
    {
     "data": {
      "application/vnd.jupyter.widget-view+json": {
       "model_id": "a5663ff232ab44e7b4b62cf85611cfe8",
       "version_major": 2,
       "version_minor": 0
      },
      "text/plain": [
       "page:   0%|          | 0/36 [00:00<?, ?it/s]"
      ]
     },
     "metadata": {},
     "output_type": "display_data"
    },
    {
     "data": {
      "application/vnd.jupyter.widget-view+json": {
       "model_id": "34b926b757624d03bfbd63d1bc6dbdbc",
       "version_major": 2,
       "version_minor": 0
      },
      "text/plain": [
       "page:   0%|          | 0/32 [00:00<?, ?it/s]"
      ]
     },
     "metadata": {},
     "output_type": "display_data"
    },
    {
     "data": {
      "application/vnd.jupyter.widget-view+json": {
       "model_id": "899b864b6b524ff3804dea5f7f0ee85a",
       "version_major": 2,
       "version_minor": 0
      },
      "text/plain": [
       "page:   0%|          | 0/44 [00:00<?, ?it/s]"
      ]
     },
     "metadata": {},
     "output_type": "display_data"
    },
    {
     "data": {
      "application/vnd.jupyter.widget-view+json": {
       "model_id": "55c46e34101645288233281ad0c1ba83",
       "version_major": 2,
       "version_minor": 0
      },
      "text/plain": [
       "page:   0%|          | 0/75 [00:00<?, ?it/s]"
      ]
     },
     "metadata": {},
     "output_type": "display_data"
    },
    {
     "data": {
      "application/vnd.jupyter.widget-view+json": {
       "model_id": "69c4f47c64734dffb2f3e802e9701f16",
       "version_major": 2,
       "version_minor": 0
      },
      "text/plain": [
       "page:   0%|          | 0/57 [00:00<?, ?it/s]"
      ]
     },
     "metadata": {},
     "output_type": "display_data"
    },
    {
     "data": {
      "application/vnd.jupyter.widget-view+json": {
       "model_id": "547f202e1fdd4d9ca81d7e2cbf0a9ce2",
       "version_major": 2,
       "version_minor": 0
      },
      "text/plain": [
       "page:   0%|          | 0/64 [00:00<?, ?it/s]"
      ]
     },
     "metadata": {},
     "output_type": "display_data"
    },
    {
     "data": {
      "application/vnd.jupyter.widget-view+json": {
       "model_id": "8e080ba3cea54e4195f8a1ac108c6cae",
       "version_major": 2,
       "version_minor": 0
      },
      "text/plain": [
       "page:   0%|          | 0/54 [00:00<?, ?it/s]"
      ]
     },
     "metadata": {},
     "output_type": "display_data"
    },
    {
     "data": {
      "application/vnd.jupyter.widget-view+json": {
       "model_id": "1e0f68cccc36473ba54de4f02dfba14e",
       "version_major": 2,
       "version_minor": 0
      },
      "text/plain": [
       "page:   0%|          | 0/47 [00:00<?, ?it/s]"
      ]
     },
     "metadata": {},
     "output_type": "display_data"
    },
    {
     "data": {
      "application/vnd.jupyter.widget-view+json": {
       "model_id": "6c30820a5186483987b8a33f0306c903",
       "version_major": 2,
       "version_minor": 0
      },
      "text/plain": [
       "page:   0%|          | 0/60 [00:00<?, ?it/s]"
      ]
     },
     "metadata": {},
     "output_type": "display_data"
    },
    {
     "data": {
      "application/vnd.jupyter.widget-view+json": {
       "model_id": "93785bcdbdde4ff1a3b9489a76989d2f",
       "version_major": 2,
       "version_minor": 0
      },
      "text/plain": [
       "page:   0%|          | 0/45 [00:00<?, ?it/s]"
      ]
     },
     "metadata": {},
     "output_type": "display_data"
    },
    {
     "data": {
      "application/vnd.jupyter.widget-view+json": {
       "model_id": "0070168ac64949359a537481b0710d4f",
       "version_major": 2,
       "version_minor": 0
      },
      "text/plain": [
       "page:   0%|          | 0/76 [00:00<?, ?it/s]"
      ]
     },
     "metadata": {},
     "output_type": "display_data"
    },
    {
     "data": {
      "application/vnd.jupyter.widget-view+json": {
       "model_id": "d1bb63b0adb74b66aa4e1534fcd5a679",
       "version_major": 2,
       "version_minor": 0
      },
      "text/plain": [
       "page:   0%|          | 0/47 [00:00<?, ?it/s]"
      ]
     },
     "metadata": {},
     "output_type": "display_data"
    },
    {
     "data": {
      "application/vnd.jupyter.widget-view+json": {
       "model_id": "2846db3546f141148584178e9e82a2d0",
       "version_major": 2,
       "version_minor": 0
      },
      "text/plain": [
       "page:   0%|          | 0/41 [00:00<?, ?it/s]"
      ]
     },
     "metadata": {},
     "output_type": "display_data"
    },
    {
     "data": {
      "application/vnd.jupyter.widget-view+json": {
       "model_id": "3c2f5efa194f45f5b6977f1d0721097d",
       "version_major": 2,
       "version_minor": 0
      },
      "text/plain": [
       "page:   0%|          | 0/46 [00:00<?, ?it/s]"
      ]
     },
     "metadata": {},
     "output_type": "display_data"
    },
    {
     "data": {
      "application/vnd.jupyter.widget-view+json": {
       "model_id": "f957f4ab15ee42fab4916aae46ca8b79",
       "version_major": 2,
       "version_minor": 0
      },
      "text/plain": [
       "page:   0%|          | 0/50 [00:00<?, ?it/s]"
      ]
     },
     "metadata": {},
     "output_type": "display_data"
    },
    {
     "data": {
      "application/vnd.jupyter.widget-view+json": {
       "model_id": "1a1c4a2ff69e40b9bece8999726b3d82",
       "version_major": 2,
       "version_minor": 0
      },
      "text/plain": [
       "page:   0%|          | 0/74 [00:00<?, ?it/s]"
      ]
     },
     "metadata": {},
     "output_type": "display_data"
    },
    {
     "data": {
      "application/vnd.jupyter.widget-view+json": {
       "model_id": "f516a5db2afb460e843c69cf6684319f",
       "version_major": 2,
       "version_minor": 0
      },
      "text/plain": [
       "page:   0%|          | 0/95 [00:00<?, ?it/s]"
      ]
     },
     "metadata": {},
     "output_type": "display_data"
    },
    {
     "data": {
      "application/vnd.jupyter.widget-view+json": {
       "model_id": "2b5c7777a52946a48ce48eeb95d14f66",
       "version_major": 2,
       "version_minor": 0
      },
      "text/plain": [
       "page:   0%|          | 0/46 [00:00<?, ?it/s]"
      ]
     },
     "metadata": {},
     "output_type": "display_data"
    },
    {
     "data": {
      "application/vnd.jupyter.widget-view+json": {
       "model_id": "500250ec708e43c190da50bd24a4db1c",
       "version_major": 2,
       "version_minor": 0
      },
      "text/plain": [
       "page:   0%|          | 0/50 [00:00<?, ?it/s]"
      ]
     },
     "metadata": {},
     "output_type": "display_data"
    },
    {
     "data": {
      "application/vnd.jupyter.widget-view+json": {
       "model_id": "b7f21f1eb940491b8dc15d51e6e9a0e1",
       "version_major": 2,
       "version_minor": 0
      },
      "text/plain": [
       "page:   0%|          | 0/92 [00:00<?, ?it/s]"
      ]
     },
     "metadata": {},
     "output_type": "display_data"
    },
    {
     "data": {
      "application/vnd.jupyter.widget-view+json": {
       "model_id": "f113a80fd8734d6a98ab01d248b2635d",
       "version_major": 2,
       "version_minor": 0
      },
      "text/plain": [
       "page:   0%|          | 0/39 [00:00<?, ?it/s]"
      ]
     },
     "metadata": {},
     "output_type": "display_data"
    },
    {
     "data": {
      "application/vnd.jupyter.widget-view+json": {
       "model_id": "e0622253d0474480930c7469b864f010",
       "version_major": 2,
       "version_minor": 0
      },
      "text/plain": [
       "page:   0%|          | 0/81 [00:00<?, ?it/s]"
      ]
     },
     "metadata": {},
     "output_type": "display_data"
    },
    {
     "data": {
      "application/vnd.jupyter.widget-view+json": {
       "model_id": "601a4bf776df4387abb4e26252eeefe4",
       "version_major": 2,
       "version_minor": 0
      },
      "text/plain": [
       "page:   0%|          | 0/121 [00:00<?, ?it/s]"
      ]
     },
     "metadata": {},
     "output_type": "display_data"
    },
    {
     "data": {
      "application/vnd.jupyter.widget-view+json": {
       "model_id": "71654da3474944f5a7aae0e8e94c9872",
       "version_major": 2,
       "version_minor": 0
      },
      "text/plain": [
       "page:   0%|          | 0/81 [00:00<?, ?it/s]"
      ]
     },
     "metadata": {},
     "output_type": "display_data"
    },
    {
     "data": {
      "application/vnd.jupyter.widget-view+json": {
       "model_id": "d1d616223ef24e72815cbd32dfc0f41a",
       "version_major": 2,
       "version_minor": 0
      },
      "text/plain": [
       "page:   0%|          | 0/78 [00:00<?, ?it/s]"
      ]
     },
     "metadata": {},
     "output_type": "display_data"
    },
    {
     "data": {
      "application/vnd.jupyter.widget-view+json": {
       "model_id": "b119806fcf97491f9f3470cf4d652f63",
       "version_major": 2,
       "version_minor": 0
      },
      "text/plain": [
       "page:   0%|          | 0/65 [00:00<?, ?it/s]"
      ]
     },
     "metadata": {},
     "output_type": "display_data"
    },
    {
     "data": {
      "application/vnd.jupyter.widget-view+json": {
       "model_id": "f397e2ed65044d5481d35d34b72fd8af",
       "version_major": 2,
       "version_minor": 0
      },
      "text/plain": [
       "page:   0%|          | 0/65 [00:00<?, ?it/s]"
      ]
     },
     "metadata": {},
     "output_type": "display_data"
    },
    {
     "data": {
      "application/vnd.jupyter.widget-view+json": {
       "model_id": "250559ee4a9848149686a43f5b105f8e",
       "version_major": 2,
       "version_minor": 0
      },
      "text/plain": [
       "page:   0%|          | 0/79 [00:00<?, ?it/s]"
      ]
     },
     "metadata": {},
     "output_type": "display_data"
    },
    {
     "data": {
      "application/vnd.jupyter.widget-view+json": {
       "model_id": "2368a2297b5640c2882f729d55a86cc8",
       "version_major": 2,
       "version_minor": 0
      },
      "text/plain": [
       "page:   0%|          | 0/44 [00:00<?, ?it/s]"
      ]
     },
     "metadata": {},
     "output_type": "display_data"
    },
    {
     "data": {
      "application/vnd.jupyter.widget-view+json": {
       "model_id": "ffdd42f0807643118d60a14f43d42cfb",
       "version_major": 2,
       "version_minor": 0
      },
      "text/plain": [
       "page:   0%|          | 0/75 [00:00<?, ?it/s]"
      ]
     },
     "metadata": {},
     "output_type": "display_data"
    },
    {
     "data": {
      "application/vnd.jupyter.widget-view+json": {
       "model_id": "25d0d4d7f491470c956c1778c0f38218",
       "version_major": 2,
       "version_minor": 0
      },
      "text/plain": [
       "page:   0%|          | 0/77 [00:00<?, ?it/s]"
      ]
     },
     "metadata": {},
     "output_type": "display_data"
    },
    {
     "data": {
      "application/vnd.jupyter.widget-view+json": {
       "model_id": "31af4f007d34449ca3e19ef8ec4fb173",
       "version_major": 2,
       "version_minor": 0
      },
      "text/plain": [
       "page:   0%|          | 0/48 [00:00<?, ?it/s]"
      ]
     },
     "metadata": {},
     "output_type": "display_data"
    },
    {
     "data": {
      "application/vnd.jupyter.widget-view+json": {
       "model_id": "20e648527ada4b81863d16b8b464cca2",
       "version_major": 2,
       "version_minor": 0
      },
      "text/plain": [
       "page:   0%|          | 0/73 [00:00<?, ?it/s]"
      ]
     },
     "metadata": {},
     "output_type": "display_data"
    },
    {
     "data": {
      "application/vnd.jupyter.widget-view+json": {
       "model_id": "a87556c68d5644519120df7e11dff704",
       "version_major": 2,
       "version_minor": 0
      },
      "text/plain": [
       "page:   0%|          | 0/46 [00:00<?, ?it/s]"
      ]
     },
     "metadata": {},
     "output_type": "display_data"
    },
    {
     "data": {
      "application/vnd.jupyter.widget-view+json": {
       "model_id": "4dc08d91a5af4dc883f29e865b8dbef7",
       "version_major": 2,
       "version_minor": 0
      },
      "text/plain": [
       "page:   0%|          | 0/68 [00:00<?, ?it/s]"
      ]
     },
     "metadata": {},
     "output_type": "display_data"
    },
    {
     "data": {
      "application/vnd.jupyter.widget-view+json": {
       "model_id": "d8f694b7de8e4893a8be876a137583b4",
       "version_major": 2,
       "version_minor": 0
      },
      "text/plain": [
       "page:   0%|          | 0/78 [00:00<?, ?it/s]"
      ]
     },
     "metadata": {},
     "output_type": "display_data"
    },
    {
     "data": {
      "application/vnd.jupyter.widget-view+json": {
       "model_id": "147e0bc232bf48a0967ff9fb2c5a8a67",
       "version_major": 2,
       "version_minor": 0
      },
      "text/plain": [
       "page:   0%|          | 0/69 [00:00<?, ?it/s]"
      ]
     },
     "metadata": {},
     "output_type": "display_data"
    },
    {
     "data": {
      "application/vnd.jupyter.widget-view+json": {
       "model_id": "73d6e0bec7714805a6150188e73263e6",
       "version_major": 2,
       "version_minor": 0
      },
      "text/plain": [
       "page:   0%|          | 0/64 [00:00<?, ?it/s]"
      ]
     },
     "metadata": {},
     "output_type": "display_data"
    },
    {
     "data": {
      "application/vnd.jupyter.widget-view+json": {
       "model_id": "0575da2ac7a5443eb8c5549dddc4ad81",
       "version_major": 2,
       "version_minor": 0
      },
      "text/plain": [
       "page:   0%|          | 0/81 [00:00<?, ?it/s]"
      ]
     },
     "metadata": {},
     "output_type": "display_data"
    },
    {
     "data": {
      "application/vnd.jupyter.widget-view+json": {
       "model_id": "1d9e8a4577044b50bd0a24b72060e345",
       "version_major": 2,
       "version_minor": 0
      },
      "text/plain": [
       "page:   0%|          | 0/43 [00:00<?, ?it/s]"
      ]
     },
     "metadata": {},
     "output_type": "display_data"
    },
    {
     "data": {
      "application/vnd.jupyter.widget-view+json": {
       "model_id": "8f075e8a52624c16987769ac3f378e05",
       "version_major": 2,
       "version_minor": 0
      },
      "text/plain": [
       "page:   0%|          | 0/42 [00:00<?, ?it/s]"
      ]
     },
     "metadata": {},
     "output_type": "display_data"
    },
    {
     "data": {
      "application/vnd.jupyter.widget-view+json": {
       "model_id": "f44f48eac69a4d13a1c2bb4cc720fe39",
       "version_major": 2,
       "version_minor": 0
      },
      "text/plain": [
       "page:   0%|          | 0/65 [00:00<?, ?it/s]"
      ]
     },
     "metadata": {},
     "output_type": "display_data"
    },
    {
     "data": {
      "application/vnd.jupyter.widget-view+json": {
       "model_id": "62e53a60d1ae445783249aee8b9caecc",
       "version_major": 2,
       "version_minor": 0
      },
      "text/plain": [
       "page:   0%|          | 0/45 [00:00<?, ?it/s]"
      ]
     },
     "metadata": {},
     "output_type": "display_data"
    },
    {
     "data": {
      "application/vnd.jupyter.widget-view+json": {
       "model_id": "5acc8301fc9e478996d14b5aa5c3bfb0",
       "version_major": 2,
       "version_minor": 0
      },
      "text/plain": [
       "page:   0%|          | 0/74 [00:00<?, ?it/s]"
      ]
     },
     "metadata": {},
     "output_type": "display_data"
    },
    {
     "data": {
      "application/vnd.jupyter.widget-view+json": {
       "model_id": "0c3f4ddf9ff341dcb3515a72ae9c56d9",
       "version_major": 2,
       "version_minor": 0
      },
      "text/plain": [
       "page:   0%|          | 0/58 [00:00<?, ?it/s]"
      ]
     },
     "metadata": {},
     "output_type": "display_data"
    },
    {
     "data": {
      "application/vnd.jupyter.widget-view+json": {
       "model_id": "2903cf87aca54aabbefca71c135bdc32",
       "version_major": 2,
       "version_minor": 0
      },
      "text/plain": [
       "page:   0%|          | 0/43 [00:00<?, ?it/s]"
      ]
     },
     "metadata": {},
     "output_type": "display_data"
    },
    {
     "data": {
      "application/vnd.jupyter.widget-view+json": {
       "model_id": "0b1d95aee2c44346809e221a50524a19",
       "version_major": 2,
       "version_minor": 0
      },
      "text/plain": [
       "page:   0%|          | 0/50 [00:00<?, ?it/s]"
      ]
     },
     "metadata": {},
     "output_type": "display_data"
    },
    {
     "data": {
      "application/vnd.jupyter.widget-view+json": {
       "model_id": "b99da6a8be9f4fe7b55c7fdb9b3025b7",
       "version_major": 2,
       "version_minor": 0
      },
      "text/plain": [
       "page:   0%|          | 0/66 [00:00<?, ?it/s]"
      ]
     },
     "metadata": {},
     "output_type": "display_data"
    },
    {
     "data": {
      "application/vnd.jupyter.widget-view+json": {
       "model_id": "9bdbc08baa3441058119de7ded1583e2",
       "version_major": 2,
       "version_minor": 0
      },
      "text/plain": [
       "page:   0%|          | 0/53 [00:00<?, ?it/s]"
      ]
     },
     "metadata": {},
     "output_type": "display_data"
    },
    {
     "data": {
      "application/vnd.jupyter.widget-view+json": {
       "model_id": "716ef09fcce24db1857a59e617f3b7d3",
       "version_major": 2,
       "version_minor": 0
      },
      "text/plain": [
       "page:   0%|          | 0/49 [00:00<?, ?it/s]"
      ]
     },
     "metadata": {},
     "output_type": "display_data"
    },
    {
     "data": {
      "application/vnd.jupyter.widget-view+json": {
       "model_id": "f562278895cf4b519bca0078fd27ca0e",
       "version_major": 2,
       "version_minor": 0
      },
      "text/plain": [
       "page:   0%|          | 0/76 [00:00<?, ?it/s]"
      ]
     },
     "metadata": {},
     "output_type": "display_data"
    },
    {
     "data": {
      "application/vnd.jupyter.widget-view+json": {
       "model_id": "19467bb00fb842dda39efa66c9691d11",
       "version_major": 2,
       "version_minor": 0
      },
      "text/plain": [
       "page:   0%|          | 0/47 [00:00<?, ?it/s]"
      ]
     },
     "metadata": {},
     "output_type": "display_data"
    },
    {
     "data": {
      "application/vnd.jupyter.widget-view+json": {
       "model_id": "60de0344eac2465988155dd296be3d4e",
       "version_major": 2,
       "version_minor": 0
      },
      "text/plain": [
       "page:   0%|          | 0/42 [00:00<?, ?it/s]"
      ]
     },
     "metadata": {},
     "output_type": "display_data"
    },
    {
     "data": {
      "application/vnd.jupyter.widget-view+json": {
       "model_id": "b4d95dd420b5415a8a9b198cec6716bd",
       "version_major": 2,
       "version_minor": 0
      },
      "text/plain": [
       "page:   0%|          | 0/45 [00:00<?, ?it/s]"
      ]
     },
     "metadata": {},
     "output_type": "display_data"
    },
    {
     "data": {
      "application/vnd.jupyter.widget-view+json": {
       "model_id": "6fee831fdd604c1c8aa1b6864c0b3af6",
       "version_major": 2,
       "version_minor": 0
      },
      "text/plain": [
       "page:   0%|          | 0/64 [00:00<?, ?it/s]"
      ]
     },
     "metadata": {},
     "output_type": "display_data"
    },
    {
     "data": {
      "application/vnd.jupyter.widget-view+json": {
       "model_id": "e68c9c15a32a488e9466d18b3c87a324",
       "version_major": 2,
       "version_minor": 0
      },
      "text/plain": [
       "page:   0%|          | 0/44 [00:00<?, ?it/s]"
      ]
     },
     "metadata": {},
     "output_type": "display_data"
    },
    {
     "data": {
      "application/vnd.jupyter.widget-view+json": {
       "model_id": "b1f1818f708c44d5ac8aae1a92b63a72",
       "version_major": 2,
       "version_minor": 0
      },
      "text/plain": [
       "page:   0%|          | 0/43 [00:00<?, ?it/s]"
      ]
     },
     "metadata": {},
     "output_type": "display_data"
    },
    {
     "data": {
      "application/vnd.jupyter.widget-view+json": {
       "model_id": "4ae9f2b2ce004db3b413629f0d2134a7",
       "version_major": 2,
       "version_minor": 0
      },
      "text/plain": [
       "page:   0%|          | 0/47 [00:00<?, ?it/s]"
      ]
     },
     "metadata": {},
     "output_type": "display_data"
    },
    {
     "data": {
      "application/vnd.jupyter.widget-view+json": {
       "model_id": "38e2fbaab5d94f7e88f919b95ba78afc",
       "version_major": 2,
       "version_minor": 0
      },
      "text/plain": [
       "page:   0%|          | 0/62 [00:00<?, ?it/s]"
      ]
     },
     "metadata": {},
     "output_type": "display_data"
    },
    {
     "data": {
      "application/vnd.jupyter.widget-view+json": {
       "model_id": "6e1927dbdf974c7f9caebb5e75adaf49",
       "version_major": 2,
       "version_minor": 0
      },
      "text/plain": [
       "page:   0%|          | 0/51 [00:00<?, ?it/s]"
      ]
     },
     "metadata": {},
     "output_type": "display_data"
    },
    {
     "data": {
      "application/vnd.jupyter.widget-view+json": {
       "model_id": "c244eb4411064e83a9421c52288a77f0",
       "version_major": 2,
       "version_minor": 0
      },
      "text/plain": [
       "page:   0%|          | 0/54 [00:00<?, ?it/s]"
      ]
     },
     "metadata": {},
     "output_type": "display_data"
    },
    {
     "data": {
      "application/vnd.jupyter.widget-view+json": {
       "model_id": "da21bd1cad4043ca877e01d76b90d148",
       "version_major": 2,
       "version_minor": 0
      },
      "text/plain": [
       "page:   0%|          | 0/61 [00:00<?, ?it/s]"
      ]
     },
     "metadata": {},
     "output_type": "display_data"
    },
    {
     "data": {
      "application/vnd.jupyter.widget-view+json": {
       "model_id": "51a8ccb9131e4cac9511f18b00fa0405",
       "version_major": 2,
       "version_minor": 0
      },
      "text/plain": [
       "page:   0%|          | 0/56 [00:00<?, ?it/s]"
      ]
     },
     "metadata": {},
     "output_type": "display_data"
    },
    {
     "data": {
      "application/vnd.jupyter.widget-view+json": {
       "model_id": "51dd3810bf314c488ada15cff2537d58",
       "version_major": 2,
       "version_minor": 0
      },
      "text/plain": [
       "page:   0%|          | 0/48 [00:00<?, ?it/s]"
      ]
     },
     "metadata": {},
     "output_type": "display_data"
    },
    {
     "data": {
      "application/vnd.jupyter.widget-view+json": {
       "model_id": "46df6a09c61c4768876af8e919d292a2",
       "version_major": 2,
       "version_minor": 0
      },
      "text/plain": [
       "page:   0%|          | 0/49 [00:00<?, ?it/s]"
      ]
     },
     "metadata": {},
     "output_type": "display_data"
    },
    {
     "data": {
      "application/vnd.jupyter.widget-view+json": {
       "model_id": "5ece517a5ba84cf98af4d31ea3b2b7db",
       "version_major": 2,
       "version_minor": 0
      },
      "text/plain": [
       "page:   0%|          | 0/61 [00:00<?, ?it/s]"
      ]
     },
     "metadata": {},
     "output_type": "display_data"
    },
    {
     "data": {
      "application/vnd.jupyter.widget-view+json": {
       "model_id": "5113187f4ec34699a32d62d6afd14ba7",
       "version_major": 2,
       "version_minor": 0
      },
      "text/plain": [
       "page:   0%|          | 0/43 [00:00<?, ?it/s]"
      ]
     },
     "metadata": {},
     "output_type": "display_data"
    },
    {
     "data": {
      "application/vnd.jupyter.widget-view+json": {
       "model_id": "e9f5689edc944c3a95b35c955336609b",
       "version_major": 2,
       "version_minor": 0
      },
      "text/plain": [
       "page:   0%|          | 0/43 [00:00<?, ?it/s]"
      ]
     },
     "metadata": {},
     "output_type": "display_data"
    },
    {
     "data": {
      "application/vnd.jupyter.widget-view+json": {
       "model_id": "9f13fac1eeea4e4eb232f4aed7f3cde3",
       "version_major": 2,
       "version_minor": 0
      },
      "text/plain": [
       "page:   0%|          | 0/50 [00:00<?, ?it/s]"
      ]
     },
     "metadata": {},
     "output_type": "display_data"
    },
    {
     "data": {
      "application/vnd.jupyter.widget-view+json": {
       "model_id": "53a1d412957c4ebe9c9e09f5cba6c8e6",
       "version_major": 2,
       "version_minor": 0
      },
      "text/plain": [
       "page:   0%|          | 0/48 [00:00<?, ?it/s]"
      ]
     },
     "metadata": {},
     "output_type": "display_data"
    },
    {
     "data": {
      "application/vnd.jupyter.widget-view+json": {
       "model_id": "a8054f9a0fc84a0f97488292ee4c47f4",
       "version_major": 2,
       "version_minor": 0
      },
      "text/plain": [
       "page:   0%|          | 0/41 [00:00<?, ?it/s]"
      ]
     },
     "metadata": {},
     "output_type": "display_data"
    },
    {
     "data": {
      "application/vnd.jupyter.widget-view+json": {
       "model_id": "7610e1dd27254b739b96828e53bdb516",
       "version_major": 2,
       "version_minor": 0
      },
      "text/plain": [
       "page:   0%|          | 0/54 [00:00<?, ?it/s]"
      ]
     },
     "metadata": {},
     "output_type": "display_data"
    },
    {
     "data": {
      "application/vnd.jupyter.widget-view+json": {
       "model_id": "720ae924f71e4ad0b62e637620850693",
       "version_major": 2,
       "version_minor": 0
      },
      "text/plain": [
       "page:   0%|          | 0/45 [00:00<?, ?it/s]"
      ]
     },
     "metadata": {},
     "output_type": "display_data"
    },
    {
     "data": {
      "application/vnd.jupyter.widget-view+json": {
       "model_id": "8feb6942f8304779817521f84991375e",
       "version_major": 2,
       "version_minor": 0
      },
      "text/plain": [
       "page:   0%|          | 0/47 [00:00<?, ?it/s]"
      ]
     },
     "metadata": {},
     "output_type": "display_data"
    },
    {
     "data": {
      "application/vnd.jupyter.widget-view+json": {
       "model_id": "6046367e81cf4ac7ae6dd576a91b09eb",
       "version_major": 2,
       "version_minor": 0
      },
      "text/plain": [
       "page:   0%|          | 0/68 [00:00<?, ?it/s]"
      ]
     },
     "metadata": {},
     "output_type": "display_data"
    },
    {
     "data": {
      "application/vnd.jupyter.widget-view+json": {
       "model_id": "2559c6fce8a64e1dabbac3195558e7e6",
       "version_major": 2,
       "version_minor": 0
      },
      "text/plain": [
       "page:   0%|          | 0/71 [00:00<?, ?it/s]"
      ]
     },
     "metadata": {},
     "output_type": "display_data"
    },
    {
     "data": {
      "application/vnd.jupyter.widget-view+json": {
       "model_id": "e525d4defded4c4e90e373c4b2ed2293",
       "version_major": 2,
       "version_minor": 0
      },
      "text/plain": [
       "page:   0%|          | 0/39 [00:00<?, ?it/s]"
      ]
     },
     "metadata": {},
     "output_type": "display_data"
    },
    {
     "data": {
      "application/vnd.jupyter.widget-view+json": {
       "model_id": "a8b3b7edcac1428d89f49a85b28f8505",
       "version_major": 2,
       "version_minor": 0
      },
      "text/plain": [
       "page:   0%|          | 0/72 [00:00<?, ?it/s]"
      ]
     },
     "metadata": {},
     "output_type": "display_data"
    },
    {
     "data": {
      "application/vnd.jupyter.widget-view+json": {
       "model_id": "e2d81ffef72c4ea99da69dc6b8059833",
       "version_major": 2,
       "version_minor": 0
      },
      "text/plain": [
       "page:   0%|          | 0/53 [00:00<?, ?it/s]"
      ]
     },
     "metadata": {},
     "output_type": "display_data"
    },
    {
     "data": {
      "application/vnd.jupyter.widget-view+json": {
       "model_id": "d74952e31f0e482f92a9f110e42aae02",
       "version_major": 2,
       "version_minor": 0
      },
      "text/plain": [
       "page:   0%|          | 0/42 [00:00<?, ?it/s]"
      ]
     },
     "metadata": {},
     "output_type": "display_data"
    },
    {
     "data": {
      "application/vnd.jupyter.widget-view+json": {
       "model_id": "9bb82094f4f64f6c8df34dad63c097f7",
       "version_major": 2,
       "version_minor": 0
      },
      "text/plain": [
       "page:   0%|          | 0/100 [00:00<?, ?it/s]"
      ]
     },
     "metadata": {},
     "output_type": "display_data"
    },
    {
     "data": {
      "application/vnd.jupyter.widget-view+json": {
       "model_id": "a9cd09181e7e4572ba82fa92f853e459",
       "version_major": 2,
       "version_minor": 0
      },
      "text/plain": [
       "page:   0%|          | 0/65 [00:00<?, ?it/s]"
      ]
     },
     "metadata": {},
     "output_type": "display_data"
    },
    {
     "data": {
      "application/vnd.jupyter.widget-view+json": {
       "model_id": "21d4629f05404f27994f8c8f1ef91717",
       "version_major": 2,
       "version_minor": 0
      },
      "text/plain": [
       "page:   0%|          | 0/48 [00:00<?, ?it/s]"
      ]
     },
     "metadata": {},
     "output_type": "display_data"
    },
    {
     "data": {
      "application/vnd.jupyter.widget-view+json": {
       "model_id": "405cafdcb8964474afcdba3331ccead3",
       "version_major": 2,
       "version_minor": 0
      },
      "text/plain": [
       "page:   0%|          | 0/42 [00:00<?, ?it/s]"
      ]
     },
     "metadata": {},
     "output_type": "display_data"
    },
    {
     "data": {
      "application/vnd.jupyter.widget-view+json": {
       "model_id": "b66f13e6c4c64180914771e3d6d53741",
       "version_major": 2,
       "version_minor": 0
      },
      "text/plain": [
       "page:   0%|          | 0/49 [00:00<?, ?it/s]"
      ]
     },
     "metadata": {},
     "output_type": "display_data"
    },
    {
     "data": {
      "application/vnd.jupyter.widget-view+json": {
       "model_id": "578a010f84d8407698420f0c8cbb7acc",
       "version_major": 2,
       "version_minor": 0
      },
      "text/plain": [
       "page:   0%|          | 0/86 [00:00<?, ?it/s]"
      ]
     },
     "metadata": {},
     "output_type": "display_data"
    },
    {
     "data": {
      "application/vnd.jupyter.widget-view+json": {
       "model_id": "4dde8eff888c4e33b2c24ccd33f29043",
       "version_major": 2,
       "version_minor": 0
      },
      "text/plain": [
       "page:   0%|          | 0/56 [00:00<?, ?it/s]"
      ]
     },
     "metadata": {},
     "output_type": "display_data"
    },
    {
     "data": {
      "application/vnd.jupyter.widget-view+json": {
       "model_id": "7238b5c0a20c4207861e09318aff16f8",
       "version_major": 2,
       "version_minor": 0
      },
      "text/plain": [
       "page:   0%|          | 0/50 [00:00<?, ?it/s]"
      ]
     },
     "metadata": {},
     "output_type": "display_data"
    },
    {
     "data": {
      "application/vnd.jupyter.widget-view+json": {
       "model_id": "e6e6099a51f142a9a0e77a2ebe9e4986",
       "version_major": 2,
       "version_minor": 0
      },
      "text/plain": [
       "page:   0%|          | 0/55 [00:00<?, ?it/s]"
      ]
     },
     "metadata": {},
     "output_type": "display_data"
    },
    {
     "data": {
      "application/vnd.jupyter.widget-view+json": {
       "model_id": "990283d7fe824adb9c9d79570588e9f7",
       "version_major": 2,
       "version_minor": 0
      },
      "text/plain": [
       "page:   0%|          | 0/54 [00:00<?, ?it/s]"
      ]
     },
     "metadata": {},
     "output_type": "display_data"
    },
    {
     "data": {
      "application/vnd.jupyter.widget-view+json": {
       "model_id": "e87900183c93427d97ab4988e32b14d7",
       "version_major": 2,
       "version_minor": 0
      },
      "text/plain": [
       "page:   0%|          | 0/53 [00:00<?, ?it/s]"
      ]
     },
     "metadata": {},
     "output_type": "display_data"
    },
    {
     "data": {
      "application/vnd.jupyter.widget-view+json": {
       "model_id": "df8d6c616a0a408cbb4a6093a41a0cd3",
       "version_major": 2,
       "version_minor": 0
      },
      "text/plain": [
       "page:   0%|          | 0/68 [00:00<?, ?it/s]"
      ]
     },
     "metadata": {},
     "output_type": "display_data"
    },
    {
     "data": {
      "application/vnd.jupyter.widget-view+json": {
       "model_id": "8a42705090ae4ae2a3a7309005727ab2",
       "version_major": 2,
       "version_minor": 0
      },
      "text/plain": [
       "page:   0%|          | 0/54 [00:00<?, ?it/s]"
      ]
     },
     "metadata": {},
     "output_type": "display_data"
    },
    {
     "data": {
      "application/vnd.jupyter.widget-view+json": {
       "model_id": "24460a321d12415eb3ba24fa926536ea",
       "version_major": 2,
       "version_minor": 0
      },
      "text/plain": [
       "page:   0%|          | 0/52 [00:00<?, ?it/s]"
      ]
     },
     "metadata": {},
     "output_type": "display_data"
    },
    {
     "data": {
      "application/vnd.jupyter.widget-view+json": {
       "model_id": "471dabf35a474704bc11c23172798d39",
       "version_major": 2,
       "version_minor": 0
      },
      "text/plain": [
       "page:   0%|          | 0/38 [00:00<?, ?it/s]"
      ]
     },
     "metadata": {},
     "output_type": "display_data"
    },
    {
     "data": {
      "application/vnd.jupyter.widget-view+json": {
       "model_id": "cad990c525de4d669bb265898c6cabc9",
       "version_major": 2,
       "version_minor": 0
      },
      "text/plain": [
       "page:   0%|          | 0/37 [00:00<?, ?it/s]"
      ]
     },
     "metadata": {},
     "output_type": "display_data"
    },
    {
     "data": {
      "application/vnd.jupyter.widget-view+json": {
       "model_id": "f45f1e6558564c89a2651f98be5f171f",
       "version_major": 2,
       "version_minor": 0
      },
      "text/plain": [
       "page:   0%|          | 0/43 [00:00<?, ?it/s]"
      ]
     },
     "metadata": {},
     "output_type": "display_data"
    },
    {
     "data": {
      "application/vnd.jupyter.widget-view+json": {
       "model_id": "728c2eb5075a4f1e96c151c9a6f58ada",
       "version_major": 2,
       "version_minor": 0
      },
      "text/plain": [
       "page:   0%|          | 0/45 [00:00<?, ?it/s]"
      ]
     },
     "metadata": {},
     "output_type": "display_data"
    },
    {
     "data": {
      "application/vnd.jupyter.widget-view+json": {
       "model_id": "215a51c77c9b46a8bffeb5007ee17e41",
       "version_major": 2,
       "version_minor": 0
      },
      "text/plain": [
       "page:   0%|          | 0/44 [00:00<?, ?it/s]"
      ]
     },
     "metadata": {},
     "output_type": "display_data"
    },
    {
     "data": {
      "application/vnd.jupyter.widget-view+json": {
       "model_id": "e2ea2a0d1351431fb7de7816cffdffa0",
       "version_major": 2,
       "version_minor": 0
      },
      "text/plain": [
       "page:   0%|          | 0/75 [00:00<?, ?it/s]"
      ]
     },
     "metadata": {},
     "output_type": "display_data"
    },
    {
     "data": {
      "application/vnd.jupyter.widget-view+json": {
       "model_id": "58581c6eae9b4947926150f5f058409f",
       "version_major": 2,
       "version_minor": 0
      },
      "text/plain": [
       "page:   0%|          | 0/75 [00:00<?, ?it/s]"
      ]
     },
     "metadata": {},
     "output_type": "display_data"
    },
    {
     "data": {
      "application/vnd.jupyter.widget-view+json": {
       "model_id": "da766c0f12a447cbad0f14f73abae086",
       "version_major": 2,
       "version_minor": 0
      },
      "text/plain": [
       "page:   0%|          | 0/56 [00:00<?, ?it/s]"
      ]
     },
     "metadata": {},
     "output_type": "display_data"
    },
    {
     "data": {
      "application/vnd.jupyter.widget-view+json": {
       "model_id": "d5003cbfbf43461e8d41eaa3bfa17eb3",
       "version_major": 2,
       "version_minor": 0
      },
      "text/plain": [
       "page:   0%|          | 0/43 [00:00<?, ?it/s]"
      ]
     },
     "metadata": {},
     "output_type": "display_data"
    },
    {
     "data": {
      "application/vnd.jupyter.widget-view+json": {
       "model_id": "3a2910463c7443839928b22973e97f1b",
       "version_major": 2,
       "version_minor": 0
      },
      "text/plain": [
       "page:   0%|          | 0/43 [00:00<?, ?it/s]"
      ]
     },
     "metadata": {},
     "output_type": "display_data"
    },
    {
     "data": {
      "application/vnd.jupyter.widget-view+json": {
       "model_id": "e4dead00c8a347bebd78030bd6708f4a",
       "version_major": 2,
       "version_minor": 0
      },
      "text/plain": [
       "page:   0%|          | 0/99 [00:00<?, ?it/s]"
      ]
     },
     "metadata": {},
     "output_type": "display_data"
    },
    {
     "data": {
      "application/vnd.jupyter.widget-view+json": {
       "model_id": "3820feff5a2447748c6500fc1c30ee39",
       "version_major": 2,
       "version_minor": 0
      },
      "text/plain": [
       "page:   0%|          | 0/62 [00:00<?, ?it/s]"
      ]
     },
     "metadata": {},
     "output_type": "display_data"
    },
    {
     "data": {
      "application/vnd.jupyter.widget-view+json": {
       "model_id": "52337dfb1b8a41e1968521a29b580bf5",
       "version_major": 2,
       "version_minor": 0
      },
      "text/plain": [
       "page:   0%|          | 0/56 [00:00<?, ?it/s]"
      ]
     },
     "metadata": {},
     "output_type": "display_data"
    },
    {
     "data": {
      "application/vnd.jupyter.widget-view+json": {
       "model_id": "c839061664e64ebd948d94d83a636194",
       "version_major": 2,
       "version_minor": 0
      },
      "text/plain": [
       "page:   0%|          | 0/55 [00:00<?, ?it/s]"
      ]
     },
     "metadata": {},
     "output_type": "display_data"
    },
    {
     "data": {
      "application/vnd.jupyter.widget-view+json": {
       "model_id": "5fa37a0e308d4a2b8f761dc13f490f11",
       "version_major": 2,
       "version_minor": 0
      },
      "text/plain": [
       "page:   0%|          | 0/42 [00:00<?, ?it/s]"
      ]
     },
     "metadata": {},
     "output_type": "display_data"
    },
    {
     "data": {
      "application/vnd.jupyter.widget-view+json": {
       "model_id": "5051fdc9b02341118793088d9c25259d",
       "version_major": 2,
       "version_minor": 0
      },
      "text/plain": [
       "page:   0%|          | 0/47 [00:00<?, ?it/s]"
      ]
     },
     "metadata": {},
     "output_type": "display_data"
    },
    {
     "data": {
      "application/vnd.jupyter.widget-view+json": {
       "model_id": "f987d72b0ecd4f30a009bca95fcabd18",
       "version_major": 2,
       "version_minor": 0
      },
      "text/plain": [
       "page:   0%|          | 0/65 [00:00<?, ?it/s]"
      ]
     },
     "metadata": {},
     "output_type": "display_data"
    },
    {
     "data": {
      "application/vnd.jupyter.widget-view+json": {
       "model_id": "c13457034efa45e6bc059d1b3a78cf82",
       "version_major": 2,
       "version_minor": 0
      },
      "text/plain": [
       "page:   0%|          | 0/46 [00:00<?, ?it/s]"
      ]
     },
     "metadata": {},
     "output_type": "display_data"
    },
    {
     "data": {
      "application/vnd.jupyter.widget-view+json": {
       "model_id": "bb6945ee92a5479d9149b40273832207",
       "version_major": 2,
       "version_minor": 0
      },
      "text/plain": [
       "page:   0%|          | 0/67 [00:00<?, ?it/s]"
      ]
     },
     "metadata": {},
     "output_type": "display_data"
    },
    {
     "data": {
      "application/vnd.jupyter.widget-view+json": {
       "model_id": "ca8207e484784179afd484466f41bcc6",
       "version_major": 2,
       "version_minor": 0
      },
      "text/plain": [
       "page:   0%|          | 0/48 [00:00<?, ?it/s]"
      ]
     },
     "metadata": {},
     "output_type": "display_data"
    },
    {
     "data": {
      "application/vnd.jupyter.widget-view+json": {
       "model_id": "108f8fa4d6304a68b0c20e7d358d84a7",
       "version_major": 2,
       "version_minor": 0
      },
      "text/plain": [
       "page:   0%|          | 0/33 [00:00<?, ?it/s]"
      ]
     },
     "metadata": {},
     "output_type": "display_data"
    },
    {
     "data": {
      "application/vnd.jupyter.widget-view+json": {
       "model_id": "d03708096bf7437d8c4ef5ea3902f03c",
       "version_major": 2,
       "version_minor": 0
      },
      "text/plain": [
       "page:   0%|          | 0/120 [00:00<?, ?it/s]"
      ]
     },
     "metadata": {},
     "output_type": "display_data"
    },
    {
     "data": {
      "application/vnd.jupyter.widget-view+json": {
       "model_id": "581c6ffc2fee4fc0b42908c4e0709890",
       "version_major": 2,
       "version_minor": 0
      },
      "text/plain": [
       "page:   0%|          | 0/57 [00:00<?, ?it/s]"
      ]
     },
     "metadata": {},
     "output_type": "display_data"
    },
    {
     "data": {
      "application/vnd.jupyter.widget-view+json": {
       "model_id": "c409a2504c01435f91e39cfd9452add1",
       "version_major": 2,
       "version_minor": 0
      },
      "text/plain": [
       "page:   0%|          | 0/72 [00:00<?, ?it/s]"
      ]
     },
     "metadata": {},
     "output_type": "display_data"
    },
    {
     "data": {
      "application/vnd.jupyter.widget-view+json": {
       "model_id": "fe4bb9aa2cc74d148851ac9fd1a03f00",
       "version_major": 2,
       "version_minor": 0
      },
      "text/plain": [
       "page:   0%|          | 0/44 [00:00<?, ?it/s]"
      ]
     },
     "metadata": {},
     "output_type": "display_data"
    },
    {
     "data": {
      "application/vnd.jupyter.widget-view+json": {
       "model_id": "a95e48255df94ba5bf1770775de686b0",
       "version_major": 2,
       "version_minor": 0
      },
      "text/plain": [
       "page:   0%|          | 0/49 [00:00<?, ?it/s]"
      ]
     },
     "metadata": {},
     "output_type": "display_data"
    },
    {
     "data": {
      "application/vnd.jupyter.widget-view+json": {
       "model_id": "2ac18ff724b6403eab52d468085bedb3",
       "version_major": 2,
       "version_minor": 0
      },
      "text/plain": [
       "page:   0%|          | 0/45 [00:00<?, ?it/s]"
      ]
     },
     "metadata": {},
     "output_type": "display_data"
    },
    {
     "data": {
      "application/vnd.jupyter.widget-view+json": {
       "model_id": "e5d5e72808ee4ae5b6dd4655c1d231c6",
       "version_major": 2,
       "version_minor": 0
      },
      "text/plain": [
       "page:   0%|          | 0/50 [00:00<?, ?it/s]"
      ]
     },
     "metadata": {},
     "output_type": "display_data"
    },
    {
     "data": {
      "application/vnd.jupyter.widget-view+json": {
       "model_id": "2684f55a66bc444fa9e662137a618b56",
       "version_major": 2,
       "version_minor": 0
      },
      "text/plain": [
       "page:   0%|          | 0/39 [00:00<?, ?it/s]"
      ]
     },
     "metadata": {},
     "output_type": "display_data"
    },
    {
     "data": {
      "application/vnd.jupyter.widget-view+json": {
       "model_id": "d5548004672e4ebfab6a1be90ac84a65",
       "version_major": 2,
       "version_minor": 0
      },
      "text/plain": [
       "page:   0%|          | 0/37 [00:00<?, ?it/s]"
      ]
     },
     "metadata": {},
     "output_type": "display_data"
    },
    {
     "data": {
      "application/vnd.jupyter.widget-view+json": {
       "model_id": "a1101fe9502045bf9c9b2865839128e0",
       "version_major": 2,
       "version_minor": 0
      },
      "text/plain": [
       "page:   0%|          | 0/48 [00:00<?, ?it/s]"
      ]
     },
     "metadata": {},
     "output_type": "display_data"
    },
    {
     "data": {
      "application/vnd.jupyter.widget-view+json": {
       "model_id": "5c6fa6d7378d47429ea27f5aac873bb3",
       "version_major": 2,
       "version_minor": 0
      },
      "text/plain": [
       "page:   0%|          | 0/37 [00:00<?, ?it/s]"
      ]
     },
     "metadata": {},
     "output_type": "display_data"
    },
    {
     "data": {
      "application/vnd.jupyter.widget-view+json": {
       "model_id": "d8666a739db545f989cb1d7371642014",
       "version_major": 2,
       "version_minor": 0
      },
      "text/plain": [
       "page:   0%|          | 0/47 [00:00<?, ?it/s]"
      ]
     },
     "metadata": {},
     "output_type": "display_data"
    },
    {
     "data": {
      "application/vnd.jupyter.widget-view+json": {
       "model_id": "f1ed768688964758850c1e4671df73c0",
       "version_major": 2,
       "version_minor": 0
      },
      "text/plain": [
       "page:   0%|          | 0/52 [00:00<?, ?it/s]"
      ]
     },
     "metadata": {},
     "output_type": "display_data"
    },
    {
     "data": {
      "application/vnd.jupyter.widget-view+json": {
       "model_id": "1e17606b508a46bf80fac1cf05300159",
       "version_major": 2,
       "version_minor": 0
      },
      "text/plain": [
       "page:   0%|          | 0/65 [00:00<?, ?it/s]"
      ]
     },
     "metadata": {},
     "output_type": "display_data"
    },
    {
     "data": {
      "application/vnd.jupyter.widget-view+json": {
       "model_id": "fc9c23ca754e44bb8053229376497008",
       "version_major": 2,
       "version_minor": 0
      },
      "text/plain": [
       "page:   0%|          | 0/36 [00:00<?, ?it/s]"
      ]
     },
     "metadata": {},
     "output_type": "display_data"
    },
    {
     "data": {
      "application/vnd.jupyter.widget-view+json": {
       "model_id": "c50fc2572f534ba5af4ef0b6a90a0040",
       "version_major": 2,
       "version_minor": 0
      },
      "text/plain": [
       "page:   0%|          | 0/36 [00:00<?, ?it/s]"
      ]
     },
     "metadata": {},
     "output_type": "display_data"
    },
    {
     "data": {
      "application/vnd.jupyter.widget-view+json": {
       "model_id": "a7d39ead6c034a738d3e713f958391f0",
       "version_major": 2,
       "version_minor": 0
      },
      "text/plain": [
       "page:   0%|          | 0/37 [00:00<?, ?it/s]"
      ]
     },
     "metadata": {},
     "output_type": "display_data"
    },
    {
     "data": {
      "application/vnd.jupyter.widget-view+json": {
       "model_id": "659a3aef193c4a829b126448504d78bb",
       "version_major": 2,
       "version_minor": 0
      },
      "text/plain": [
       "page:   0%|          | 0/44 [00:00<?, ?it/s]"
      ]
     },
     "metadata": {},
     "output_type": "display_data"
    },
    {
     "data": {
      "application/vnd.jupyter.widget-view+json": {
       "model_id": "b90e490203254ac38d85fd6c11366e8b",
       "version_major": 2,
       "version_minor": 0
      },
      "text/plain": [
       "page:   0%|          | 0/33 [00:00<?, ?it/s]"
      ]
     },
     "metadata": {},
     "output_type": "display_data"
    },
    {
     "data": {
      "application/vnd.jupyter.widget-view+json": {
       "model_id": "30c1d89f966d45f49613b1c8f58ca453",
       "version_major": 2,
       "version_minor": 0
      },
      "text/plain": [
       "page:   0%|          | 0/44 [00:00<?, ?it/s]"
      ]
     },
     "metadata": {},
     "output_type": "display_data"
    },
    {
     "data": {
      "application/vnd.jupyter.widget-view+json": {
       "model_id": "b1bd6584b3e143229866d80407e0fd41",
       "version_major": 2,
       "version_minor": 0
      },
      "text/plain": [
       "page:   0%|          | 0/38 [00:00<?, ?it/s]"
      ]
     },
     "metadata": {},
     "output_type": "display_data"
    },
    {
     "data": {
      "application/vnd.jupyter.widget-view+json": {
       "model_id": "fa81d9eb3ce34177ae13ccb523a7bb38",
       "version_major": 2,
       "version_minor": 0
      },
      "text/plain": [
       "page:   0%|          | 0/48 [00:00<?, ?it/s]"
      ]
     },
     "metadata": {},
     "output_type": "display_data"
    },
    {
     "data": {
      "application/vnd.jupyter.widget-view+json": {
       "model_id": "ad828ea2bc3f4341a626b55fe333bdb1",
       "version_major": 2,
       "version_minor": 0
      },
      "text/plain": [
       "page:   0%|          | 0/46 [00:00<?, ?it/s]"
      ]
     },
     "metadata": {},
     "output_type": "display_data"
    },
    {
     "data": {
      "application/vnd.jupyter.widget-view+json": {
       "model_id": "e384a5549ad44157811dc59b065894f8",
       "version_major": 2,
       "version_minor": 0
      },
      "text/plain": [
       "page:   0%|          | 0/47 [00:00<?, ?it/s]"
      ]
     },
     "metadata": {},
     "output_type": "display_data"
    },
    {
     "data": {
      "application/vnd.jupyter.widget-view+json": {
       "model_id": "d8c3f3a6f6974f0ebf08bfedf78eecb7",
       "version_major": 2,
       "version_minor": 0
      },
      "text/plain": [
       "page:   0%|          | 0/37 [00:00<?, ?it/s]"
      ]
     },
     "metadata": {},
     "output_type": "display_data"
    },
    {
     "data": {
      "application/vnd.jupyter.widget-view+json": {
       "model_id": "07b4a6032e954c2cb8eab90a02184122",
       "version_major": 2,
       "version_minor": 0
      },
      "text/plain": [
       "page:   0%|          | 0/43 [00:00<?, ?it/s]"
      ]
     },
     "metadata": {},
     "output_type": "display_data"
    },
    {
     "data": {
      "application/vnd.jupyter.widget-view+json": {
       "model_id": "86bd3bda4d4e49f2aba4e0e1b3f06773",
       "version_major": 2,
       "version_minor": 0
      },
      "text/plain": [
       "page:   0%|          | 0/42 [00:00<?, ?it/s]"
      ]
     },
     "metadata": {},
     "output_type": "display_data"
    },
    {
     "data": {
      "application/vnd.jupyter.widget-view+json": {
       "model_id": "ecd04d8abaf249338ffc448c04f536e5",
       "version_major": 2,
       "version_minor": 0
      },
      "text/plain": [
       "page:   0%|          | 0/49 [00:00<?, ?it/s]"
      ]
     },
     "metadata": {},
     "output_type": "display_data"
    },
    {
     "data": {
      "application/vnd.jupyter.widget-view+json": {
       "model_id": "e114b1b219e84fe7ae6ecf4c08fb5270",
       "version_major": 2,
       "version_minor": 0
      },
      "text/plain": [
       "page:   0%|          | 0/44 [00:00<?, ?it/s]"
      ]
     },
     "metadata": {},
     "output_type": "display_data"
    },
    {
     "data": {
      "application/vnd.jupyter.widget-view+json": {
       "model_id": "256cfd2984264326873628d3e9dc480c",
       "version_major": 2,
       "version_minor": 0
      },
      "text/plain": [
       "page:   0%|          | 0/55 [00:00<?, ?it/s]"
      ]
     },
     "metadata": {},
     "output_type": "display_data"
    },
    {
     "data": {
      "application/vnd.jupyter.widget-view+json": {
       "model_id": "ffa7c53874d647ad8578e9837735fb85",
       "version_major": 2,
       "version_minor": 0
      },
      "text/plain": [
       "page:   0%|          | 0/46 [00:00<?, ?it/s]"
      ]
     },
     "metadata": {},
     "output_type": "display_data"
    },
    {
     "data": {
      "application/vnd.jupyter.widget-view+json": {
       "model_id": "c667ca74bdfc4c5683d540cb8be3aa33",
       "version_major": 2,
       "version_minor": 0
      },
      "text/plain": [
       "page:   0%|          | 0/39 [00:00<?, ?it/s]"
      ]
     },
     "metadata": {},
     "output_type": "display_data"
    },
    {
     "data": {
      "application/vnd.jupyter.widget-view+json": {
       "model_id": "5e8ec6845499407c8787caade96c4b2a",
       "version_major": 2,
       "version_minor": 0
      },
      "text/plain": [
       "page:   0%|          | 0/33 [00:00<?, ?it/s]"
      ]
     },
     "metadata": {},
     "output_type": "display_data"
    },
    {
     "data": {
      "application/vnd.jupyter.widget-view+json": {
       "model_id": "f0f6b8511bc3412d8f17f16b15470441",
       "version_major": 2,
       "version_minor": 0
      },
      "text/plain": [
       "page:   0%|          | 0/36 [00:00<?, ?it/s]"
      ]
     },
     "metadata": {},
     "output_type": "display_data"
    },
    {
     "data": {
      "application/vnd.jupyter.widget-view+json": {
       "model_id": "b32538681f084c70b7b74dbe4f864eaa",
       "version_major": 2,
       "version_minor": 0
      },
      "text/plain": [
       "page:   0%|          | 0/53 [00:00<?, ?it/s]"
      ]
     },
     "metadata": {},
     "output_type": "display_data"
    },
    {
     "data": {
      "application/vnd.jupyter.widget-view+json": {
       "model_id": "ddebc873512c413193eb00ca8499001a",
       "version_major": 2,
       "version_minor": 0
      },
      "text/plain": [
       "page:   0%|          | 0/54 [00:00<?, ?it/s]"
      ]
     },
     "metadata": {},
     "output_type": "display_data"
    },
    {
     "data": {
      "application/vnd.jupyter.widget-view+json": {
       "model_id": "6908e196dc2a4e3185925bc9c17488ed",
       "version_major": 2,
       "version_minor": 0
      },
      "text/plain": [
       "page:   0%|          | 0/38 [00:00<?, ?it/s]"
      ]
     },
     "metadata": {},
     "output_type": "display_data"
    },
    {
     "data": {
      "application/vnd.jupyter.widget-view+json": {
       "model_id": "64dfa1890dfb4223baaf5c93daf7d13b",
       "version_major": 2,
       "version_minor": 0
      },
      "text/plain": [
       "page:   0%|          | 0/43 [00:00<?, ?it/s]"
      ]
     },
     "metadata": {},
     "output_type": "display_data"
    },
    {
     "data": {
      "application/vnd.jupyter.widget-view+json": {
       "model_id": "579f374d56e34b8cb59b800667b77fae",
       "version_major": 2,
       "version_minor": 0
      },
      "text/plain": [
       "page:   0%|          | 0/40 [00:00<?, ?it/s]"
      ]
     },
     "metadata": {},
     "output_type": "display_data"
    },
    {
     "data": {
      "application/vnd.jupyter.widget-view+json": {
       "model_id": "b4cb7e996be6477a8cdf0b7b76e146a1",
       "version_major": 2,
       "version_minor": 0
      },
      "text/plain": [
       "page:   0%|          | 0/76 [00:00<?, ?it/s]"
      ]
     },
     "metadata": {},
     "output_type": "display_data"
    },
    {
     "data": {
      "application/vnd.jupyter.widget-view+json": {
       "model_id": "4ac8ec7ba496498983e5db9e26503427",
       "version_major": 2,
       "version_minor": 0
      },
      "text/plain": [
       "page:   0%|          | 0/38 [00:00<?, ?it/s]"
      ]
     },
     "metadata": {},
     "output_type": "display_data"
    },
    {
     "data": {
      "application/vnd.jupyter.widget-view+json": {
       "model_id": "49eb75af9f2448529288529aae999fb7",
       "version_major": 2,
       "version_minor": 0
      },
      "text/plain": [
       "page:   0%|          | 0/54 [00:00<?, ?it/s]"
      ]
     },
     "metadata": {},
     "output_type": "display_data"
    },
    {
     "data": {
      "application/vnd.jupyter.widget-view+json": {
       "model_id": "b90d2096847948a7b07c57df339df04d",
       "version_major": 2,
       "version_minor": 0
      },
      "text/plain": [
       "page:   0%|          | 0/57 [00:00<?, ?it/s]"
      ]
     },
     "metadata": {},
     "output_type": "display_data"
    },
    {
     "data": {
      "application/vnd.jupyter.widget-view+json": {
       "model_id": "0755e64549404944abffd1fffa68a740",
       "version_major": 2,
       "version_minor": 0
      },
      "text/plain": [
       "page:   0%|          | 0/50 [00:00<?, ?it/s]"
      ]
     },
     "metadata": {},
     "output_type": "display_data"
    },
    {
     "data": {
      "application/vnd.jupyter.widget-view+json": {
       "model_id": "83927461139d4b589757c56caf4baf0e",
       "version_major": 2,
       "version_minor": 0
      },
      "text/plain": [
       "page:   0%|          | 0/42 [00:00<?, ?it/s]"
      ]
     },
     "metadata": {},
     "output_type": "display_data"
    },
    {
     "data": {
      "application/vnd.jupyter.widget-view+json": {
       "model_id": "4c1410410a734089bfa83e520b9aec1f",
       "version_major": 2,
       "version_minor": 0
      },
      "text/plain": [
       "page:   0%|          | 0/69 [00:00<?, ?it/s]"
      ]
     },
     "metadata": {},
     "output_type": "display_data"
    },
    {
     "data": {
      "application/vnd.jupyter.widget-view+json": {
       "model_id": "2590c9beab044123ababce04eb561998",
       "version_major": 2,
       "version_minor": 0
      },
      "text/plain": [
       "page:   0%|          | 0/55 [00:00<?, ?it/s]"
      ]
     },
     "metadata": {},
     "output_type": "display_data"
    },
    {
     "data": {
      "application/vnd.jupyter.widget-view+json": {
       "model_id": "ab3e08ed970744a4b0b9aeb194ff75ec",
       "version_major": 2,
       "version_minor": 0
      },
      "text/plain": [
       "page:   0%|          | 0/49 [00:00<?, ?it/s]"
      ]
     },
     "metadata": {},
     "output_type": "display_data"
    },
    {
     "data": {
      "application/vnd.jupyter.widget-view+json": {
       "model_id": "516bd434551441b4886404c4e99c5c89",
       "version_major": 2,
       "version_minor": 0
      },
      "text/plain": [
       "page:   0%|          | 0/43 [00:00<?, ?it/s]"
      ]
     },
     "metadata": {},
     "output_type": "display_data"
    },
    {
     "data": {
      "application/vnd.jupyter.widget-view+json": {
       "model_id": "4022ced8a930478caf5ea0e3053d0a96",
       "version_major": 2,
       "version_minor": 0
      },
      "text/plain": [
       "page:   0%|          | 0/70 [00:00<?, ?it/s]"
      ]
     },
     "metadata": {},
     "output_type": "display_data"
    },
    {
     "data": {
      "application/vnd.jupyter.widget-view+json": {
       "model_id": "f955909622984d5b98e29a33ba1455a2",
       "version_major": 2,
       "version_minor": 0
      },
      "text/plain": [
       "page:   0%|          | 0/51 [00:00<?, ?it/s]"
      ]
     },
     "metadata": {},
     "output_type": "display_data"
    },
    {
     "data": {
      "application/vnd.jupyter.widget-view+json": {
       "model_id": "12b80ade7f254023bd7c793546e408fc",
       "version_major": 2,
       "version_minor": 0
      },
      "text/plain": [
       "page:   0%|          | 0/46 [00:00<?, ?it/s]"
      ]
     },
     "metadata": {},
     "output_type": "display_data"
    },
    {
     "data": {
      "application/vnd.jupyter.widget-view+json": {
       "model_id": "10587f18fcf24f3d8b658c7734b6f352",
       "version_major": 2,
       "version_minor": 0
      },
      "text/plain": [
       "page:   0%|          | 0/52 [00:00<?, ?it/s]"
      ]
     },
     "metadata": {},
     "output_type": "display_data"
    },
    {
     "data": {
      "application/vnd.jupyter.widget-view+json": {
       "model_id": "7d526f7fa1654df7bf644cccc6117720",
       "version_major": 2,
       "version_minor": 0
      },
      "text/plain": [
       "page:   0%|          | 0/47 [00:00<?, ?it/s]"
      ]
     },
     "metadata": {},
     "output_type": "display_data"
    },
    {
     "data": {
      "application/vnd.jupyter.widget-view+json": {
       "model_id": "975fd11e9e93433a8b313216f275856d",
       "version_major": 2,
       "version_minor": 0
      },
      "text/plain": [
       "page:   0%|          | 0/46 [00:00<?, ?it/s]"
      ]
     },
     "metadata": {},
     "output_type": "display_data"
    },
    {
     "data": {
      "application/vnd.jupyter.widget-view+json": {
       "model_id": "48f41e9fd70147dfaeb572125b493cfd",
       "version_major": 2,
       "version_minor": 0
      },
      "text/plain": [
       "page:   0%|          | 0/70 [00:00<?, ?it/s]"
      ]
     },
     "metadata": {},
     "output_type": "display_data"
    },
    {
     "data": {
      "application/vnd.jupyter.widget-view+json": {
       "model_id": "f9a210f2f3474b5b9fb10286bfcbef3a",
       "version_major": 2,
       "version_minor": 0
      },
      "text/plain": [
       "page:   0%|          | 0/48 [00:00<?, ?it/s]"
      ]
     },
     "metadata": {},
     "output_type": "display_data"
    },
    {
     "data": {
      "application/vnd.jupyter.widget-view+json": {
       "model_id": "f0811a99e3244e948efd37dbe9ca18d3",
       "version_major": 2,
       "version_minor": 0
      },
      "text/plain": [
       "page:   0%|          | 0/46 [00:00<?, ?it/s]"
      ]
     },
     "metadata": {},
     "output_type": "display_data"
    },
    {
     "data": {
      "application/vnd.jupyter.widget-view+json": {
       "model_id": "7bad84c98edd4941a2f5bb6a0bbfdf42",
       "version_major": 2,
       "version_minor": 0
      },
      "text/plain": [
       "page:   0%|          | 0/47 [00:00<?, ?it/s]"
      ]
     },
     "metadata": {},
     "output_type": "display_data"
    },
    {
     "data": {
      "application/vnd.jupyter.widget-view+json": {
       "model_id": "ca52ec2799e24a09b499885e2a957295",
       "version_major": 2,
       "version_minor": 0
      },
      "text/plain": [
       "page:   0%|          | 0/63 [00:00<?, ?it/s]"
      ]
     },
     "metadata": {},
     "output_type": "display_data"
    },
    {
     "data": {
      "application/vnd.jupyter.widget-view+json": {
       "model_id": "1a623fad89c4423eab98b70d02682d60",
       "version_major": 2,
       "version_minor": 0
      },
      "text/plain": [
       "page:   0%|          | 0/44 [00:00<?, ?it/s]"
      ]
     },
     "metadata": {},
     "output_type": "display_data"
    },
    {
     "data": {
      "application/vnd.jupyter.widget-view+json": {
       "model_id": "72438bdf0e4249938339d1a72cd35103",
       "version_major": 2,
       "version_minor": 0
      },
      "text/plain": [
       "page:   0%|          | 0/73 [00:00<?, ?it/s]"
      ]
     },
     "metadata": {},
     "output_type": "display_data"
    },
    {
     "data": {
      "application/vnd.jupyter.widget-view+json": {
       "model_id": "b3143a1fdb834043b5e19c8566a0fdeb",
       "version_major": 2,
       "version_minor": 0
      },
      "text/plain": [
       "page:   0%|          | 0/86 [00:00<?, ?it/s]"
      ]
     },
     "metadata": {},
     "output_type": "display_data"
    },
    {
     "data": {
      "application/vnd.jupyter.widget-view+json": {
       "model_id": "f824358ec3fd45acbf39b190c332707d",
       "version_major": 2,
       "version_minor": 0
      },
      "text/plain": [
       "page:   0%|          | 0/97 [00:00<?, ?it/s]"
      ]
     },
     "metadata": {},
     "output_type": "display_data"
    },
    {
     "data": {
      "application/vnd.jupyter.widget-view+json": {
       "model_id": "70f6b4d79d854ffb8fae1e1d2f05d5d0",
       "version_major": 2,
       "version_minor": 0
      },
      "text/plain": [
       "page:   0%|          | 0/77 [00:00<?, ?it/s]"
      ]
     },
     "metadata": {},
     "output_type": "display_data"
    },
    {
     "data": {
      "application/vnd.jupyter.widget-view+json": {
       "model_id": "477dba248b214ad5999f75503ac5ea2b",
       "version_major": 2,
       "version_minor": 0
      },
      "text/plain": [
       "page:   0%|          | 0/84 [00:00<?, ?it/s]"
      ]
     },
     "metadata": {},
     "output_type": "display_data"
    },
    {
     "data": {
      "application/vnd.jupyter.widget-view+json": {
       "model_id": "e809070e8db7451ba4afc22fd68ae2a0",
       "version_major": 2,
       "version_minor": 0
      },
      "text/plain": [
       "page:   0%|          | 0/58 [00:00<?, ?it/s]"
      ]
     },
     "metadata": {},
     "output_type": "display_data"
    },
    {
     "data": {
      "application/vnd.jupyter.widget-view+json": {
       "model_id": "b573643f6af2486eb70a4ca41a7bf9a7",
       "version_major": 2,
       "version_minor": 0
      },
      "text/plain": [
       "page:   0%|          | 0/54 [00:00<?, ?it/s]"
      ]
     },
     "metadata": {},
     "output_type": "display_data"
    },
    {
     "data": {
      "application/vnd.jupyter.widget-view+json": {
       "model_id": "d2483f5ed38146abb678e334a1d7000d",
       "version_major": 2,
       "version_minor": 0
      },
      "text/plain": [
       "page:   0%|          | 0/52 [00:00<?, ?it/s]"
      ]
     },
     "metadata": {},
     "output_type": "display_data"
    },
    {
     "data": {
      "application/vnd.jupyter.widget-view+json": {
       "model_id": "942628f6a3f74672858de3b9c0c53d9a",
       "version_major": 2,
       "version_minor": 0
      },
      "text/plain": [
       "page:   0%|          | 0/56 [00:00<?, ?it/s]"
      ]
     },
     "metadata": {},
     "output_type": "display_data"
    },
    {
     "data": {
      "application/vnd.jupyter.widget-view+json": {
       "model_id": "4e2390f099cc43ca9f1a6f2e5cab8694",
       "version_major": 2,
       "version_minor": 0
      },
      "text/plain": [
       "page:   0%|          | 0/60 [00:00<?, ?it/s]"
      ]
     },
     "metadata": {},
     "output_type": "display_data"
    },
    {
     "data": {
      "application/vnd.jupyter.widget-view+json": {
       "model_id": "d70a845dd79c41418687ff047d5a8f9d",
       "version_major": 2,
       "version_minor": 0
      },
      "text/plain": [
       "page:   0%|          | 0/57 [00:00<?, ?it/s]"
      ]
     },
     "metadata": {},
     "output_type": "display_data"
    },
    {
     "data": {
      "application/vnd.jupyter.widget-view+json": {
       "model_id": "6bb4cc3f45474038a6d171806b27a890",
       "version_major": 2,
       "version_minor": 0
      },
      "text/plain": [
       "page:   0%|          | 0/48 [00:00<?, ?it/s]"
      ]
     },
     "metadata": {},
     "output_type": "display_data"
    },
    {
     "data": {
      "application/vnd.jupyter.widget-view+json": {
       "model_id": "bfd1770a46a542c38858544d801445e6",
       "version_major": 2,
       "version_minor": 0
      },
      "text/plain": [
       "page:   0%|          | 0/2 [00:00<?, ?it/s]"
      ]
     },
     "metadata": {},
     "output_type": "display_data"
    },
    {
     "data": {
      "application/vnd.jupyter.widget-view+json": {
       "model_id": "258e5716014f4685b20d2d73b129fddd",
       "version_major": 2,
       "version_minor": 0
      },
      "text/plain": [
       "page:   0%|          | 0/64 [00:00<?, ?it/s]"
      ]
     },
     "metadata": {},
     "output_type": "display_data"
    },
    {
     "data": {
      "application/vnd.jupyter.widget-view+json": {
       "model_id": "12292f4e2d63470caed55daeb424c93f",
       "version_major": 2,
       "version_minor": 0
      },
      "text/plain": [
       "page:   0%|          | 0/61 [00:00<?, ?it/s]"
      ]
     },
     "metadata": {},
     "output_type": "display_data"
    },
    {
     "data": {
      "application/vnd.jupyter.widget-view+json": {
       "model_id": "0e5827eb462a406aa2e38214f43c3e3d",
       "version_major": 2,
       "version_minor": 0
      },
      "text/plain": [
       "page:   0%|          | 0/87 [00:00<?, ?it/s]"
      ]
     },
     "metadata": {},
     "output_type": "display_data"
    },
    {
     "data": {
      "application/vnd.jupyter.widget-view+json": {
       "model_id": "c529c37fc0514088a8e1baf9092ed377",
       "version_major": 2,
       "version_minor": 0
      },
      "text/plain": [
       "page:   0%|          | 0/110 [00:00<?, ?it/s]"
      ]
     },
     "metadata": {},
     "output_type": "display_data"
    },
    {
     "data": {
      "application/vnd.jupyter.widget-view+json": {
       "model_id": "10acfe00c846423baa215cee85571b09",
       "version_major": 2,
       "version_minor": 0
      },
      "text/plain": [
       "page:   0%|          | 0/41 [00:00<?, ?it/s]"
      ]
     },
     "metadata": {},
     "output_type": "display_data"
    },
    {
     "data": {
      "application/vnd.jupyter.widget-view+json": {
       "model_id": "f337d8dccac94a989457af81586788d2",
       "version_major": 2,
       "version_minor": 0
      },
      "text/plain": [
       "page:   0%|          | 0/43 [00:00<?, ?it/s]"
      ]
     },
     "metadata": {},
     "output_type": "display_data"
    },
    {
     "data": {
      "application/vnd.jupyter.widget-view+json": {
       "model_id": "dbda88e1aae54b5ca895d4fb546509ac",
       "version_major": 2,
       "version_minor": 0
      },
      "text/plain": [
       "page:   0%|          | 0/44 [00:00<?, ?it/s]"
      ]
     },
     "metadata": {},
     "output_type": "display_data"
    },
    {
     "data": {
      "application/vnd.jupyter.widget-view+json": {
       "model_id": "8caca656508b48c8a062053e81b2af03",
       "version_major": 2,
       "version_minor": 0
      },
      "text/plain": [
       "page:   0%|          | 0/55 [00:00<?, ?it/s]"
      ]
     },
     "metadata": {},
     "output_type": "display_data"
    },
    {
     "data": {
      "application/vnd.jupyter.widget-view+json": {
       "model_id": "266ebf572560425b85f735e832a980eb",
       "version_major": 2,
       "version_minor": 0
      },
      "text/plain": [
       "page:   0%|          | 0/60 [00:00<?, ?it/s]"
      ]
     },
     "metadata": {},
     "output_type": "display_data"
    },
    {
     "data": {
      "application/vnd.jupyter.widget-view+json": {
       "model_id": "bd742cc5414746de8a48d25e68553bc9",
       "version_major": 2,
       "version_minor": 0
      },
      "text/plain": [
       "page:   0%|          | 0/57 [00:00<?, ?it/s]"
      ]
     },
     "metadata": {},
     "output_type": "display_data"
    },
    {
     "data": {
      "application/vnd.jupyter.widget-view+json": {
       "model_id": "91eb2bb0fd7d4007a02e92d7cab87c0b",
       "version_major": 2,
       "version_minor": 0
      },
      "text/plain": [
       "page:   0%|          | 0/48 [00:00<?, ?it/s]"
      ]
     },
     "metadata": {},
     "output_type": "display_data"
    },
    {
     "data": {
      "application/vnd.jupyter.widget-view+json": {
       "model_id": "9ce5a763f71e4ba89a2239fc03da32cc",
       "version_major": 2,
       "version_minor": 0
      },
      "text/plain": [
       "page:   0%|          | 0/41 [00:00<?, ?it/s]"
      ]
     },
     "metadata": {},
     "output_type": "display_data"
    },
    {
     "data": {
      "application/vnd.jupyter.widget-view+json": {
       "model_id": "db484b5e1d084e1084ac8c6e4dfff8eb",
       "version_major": 2,
       "version_minor": 0
      },
      "text/plain": [
       "page:   0%|          | 0/40 [00:00<?, ?it/s]"
      ]
     },
     "metadata": {},
     "output_type": "display_data"
    },
    {
     "data": {
      "application/vnd.jupyter.widget-view+json": {
       "model_id": "88dc6cbefe22400e8c0e925ef565c281",
       "version_major": 2,
       "version_minor": 0
      },
      "text/plain": [
       "page:   0%|          | 0/40 [00:00<?, ?it/s]"
      ]
     },
     "metadata": {},
     "output_type": "display_data"
    },
    {
     "data": {
      "application/vnd.jupyter.widget-view+json": {
       "model_id": "3dbb93f95fd14392919a4564a9462500",
       "version_major": 2,
       "version_minor": 0
      },
      "text/plain": [
       "page:   0%|          | 0/53 [00:00<?, ?it/s]"
      ]
     },
     "metadata": {},
     "output_type": "display_data"
    },
    {
     "data": {
      "application/vnd.jupyter.widget-view+json": {
       "model_id": "661bfa889539407498a466ddbeffb465",
       "version_major": 2,
       "version_minor": 0
      },
      "text/plain": [
       "page:   0%|          | 0/53 [00:00<?, ?it/s]"
      ]
     },
     "metadata": {},
     "output_type": "display_data"
    },
    {
     "data": {
      "application/vnd.jupyter.widget-view+json": {
       "model_id": "f1538862256248daa1a5a7daa886726f",
       "version_major": 2,
       "version_minor": 0
      },
      "text/plain": [
       "page:   0%|          | 0/86 [00:00<?, ?it/s]"
      ]
     },
     "metadata": {},
     "output_type": "display_data"
    },
    {
     "data": {
      "application/vnd.jupyter.widget-view+json": {
       "model_id": "8260069ee7bf4135a4b9752eaded7dbf",
       "version_major": 2,
       "version_minor": 0
      },
      "text/plain": [
       "page:   0%|          | 0/56 [00:00<?, ?it/s]"
      ]
     },
     "metadata": {},
     "output_type": "display_data"
    },
    {
     "data": {
      "application/vnd.jupyter.widget-view+json": {
       "model_id": "9e2f2efc7dc34ba28ccc6d7350d4c8bb",
       "version_major": 2,
       "version_minor": 0
      },
      "text/plain": [
       "page:   0%|          | 0/48 [00:00<?, ?it/s]"
      ]
     },
     "metadata": {},
     "output_type": "display_data"
    },
    {
     "data": {
      "application/vnd.jupyter.widget-view+json": {
       "model_id": "4eb21f18c77c4daab8d13efd1d036918",
       "version_major": 2,
       "version_minor": 0
      },
      "text/plain": [
       "page:   0%|          | 0/45 [00:00<?, ?it/s]"
      ]
     },
     "metadata": {},
     "output_type": "display_data"
    },
    {
     "data": {
      "application/vnd.jupyter.widget-view+json": {
       "model_id": "878c6703c4f24b128424f40d0ffd8e79",
       "version_major": 2,
       "version_minor": 0
      },
      "text/plain": [
       "page:   0%|          | 0/43 [00:00<?, ?it/s]"
      ]
     },
     "metadata": {},
     "output_type": "display_data"
    },
    {
     "data": {
      "application/vnd.jupyter.widget-view+json": {
       "model_id": "f0451bde80e64fbbacaa8d7d8b18baec",
       "version_major": 2,
       "version_minor": 0
      },
      "text/plain": [
       "page:   0%|          | 0/45 [00:00<?, ?it/s]"
      ]
     },
     "metadata": {},
     "output_type": "display_data"
    },
    {
     "data": {
      "application/vnd.jupyter.widget-view+json": {
       "model_id": "0baee33436364e6995c43c501a280eb5",
       "version_major": 2,
       "version_minor": 0
      },
      "text/plain": [
       "page:   0%|          | 0/60 [00:00<?, ?it/s]"
      ]
     },
     "metadata": {},
     "output_type": "display_data"
    },
    {
     "data": {
      "application/vnd.jupyter.widget-view+json": {
       "model_id": "51710586da244077b417b951ed2a7bb7",
       "version_major": 2,
       "version_minor": 0
      },
      "text/plain": [
       "page:   0%|          | 0/27 [00:00<?, ?it/s]"
      ]
     },
     "metadata": {},
     "output_type": "display_data"
    },
    {
     "data": {
      "application/vnd.jupyter.widget-view+json": {
       "model_id": "a507276cf0224fa887a4a037c28a7b3f",
       "version_major": 2,
       "version_minor": 0
      },
      "text/plain": [
       "page:   0%|          | 0/50 [00:00<?, ?it/s]"
      ]
     },
     "metadata": {},
     "output_type": "display_data"
    },
    {
     "data": {
      "application/vnd.jupyter.widget-view+json": {
       "model_id": "eff5c88a37d54712885cdeb6350f6134",
       "version_major": 2,
       "version_minor": 0
      },
      "text/plain": [
       "page:   0%|          | 0/48 [00:00<?, ?it/s]"
      ]
     },
     "metadata": {},
     "output_type": "display_data"
    },
    {
     "data": {
      "application/vnd.jupyter.widget-view+json": {
       "model_id": "20726bd4827d451e8395305fde4f722f",
       "version_major": 2,
       "version_minor": 0
      },
      "text/plain": [
       "page:   0%|          | 0/42 [00:00<?, ?it/s]"
      ]
     },
     "metadata": {},
     "output_type": "display_data"
    },
    {
     "data": {
      "application/vnd.jupyter.widget-view+json": {
       "model_id": "7303a0357915476c974a2d2b577cd6db",
       "version_major": 2,
       "version_minor": 0
      },
      "text/plain": [
       "page:   0%|          | 0/29 [00:00<?, ?it/s]"
      ]
     },
     "metadata": {},
     "output_type": "display_data"
    },
    {
     "data": {
      "application/vnd.jupyter.widget-view+json": {
       "model_id": "e2d27754c3cb4c548c34a054258eaf80",
       "version_major": 2,
       "version_minor": 0
      },
      "text/plain": [
       "page:   0%|          | 0/40 [00:00<?, ?it/s]"
      ]
     },
     "metadata": {},
     "output_type": "display_data"
    },
    {
     "data": {
      "application/vnd.jupyter.widget-view+json": {
       "model_id": "624d7a806b83491eb2f65713c1d98026",
       "version_major": 2,
       "version_minor": 0
      },
      "text/plain": [
       "page:   0%|          | 0/50 [00:00<?, ?it/s]"
      ]
     },
     "metadata": {},
     "output_type": "display_data"
    },
    {
     "data": {
      "application/vnd.jupyter.widget-view+json": {
       "model_id": "a697a60bf4094eb99f9d6dbc60e7343d",
       "version_major": 2,
       "version_minor": 0
      },
      "text/plain": [
       "page:   0%|          | 0/41 [00:00<?, ?it/s]"
      ]
     },
     "metadata": {},
     "output_type": "display_data"
    },
    {
     "data": {
      "application/vnd.jupyter.widget-view+json": {
       "model_id": "37eef87606fd4f719fd2943fd817590c",
       "version_major": 2,
       "version_minor": 0
      },
      "text/plain": [
       "page:   0%|          | 0/52 [00:00<?, ?it/s]"
      ]
     },
     "metadata": {},
     "output_type": "display_data"
    },
    {
     "data": {
      "application/vnd.jupyter.widget-view+json": {
       "model_id": "d90a75ead87d4ce6afd651f552f3f4aa",
       "version_major": 2,
       "version_minor": 0
      },
      "text/plain": [
       "page:   0%|          | 0/38 [00:00<?, ?it/s]"
      ]
     },
     "metadata": {},
     "output_type": "display_data"
    },
    {
     "data": {
      "application/vnd.jupyter.widget-view+json": {
       "model_id": "f7eefa2209c74d8caae78e25dd134590",
       "version_major": 2,
       "version_minor": 0
      },
      "text/plain": [
       "page:   0%|          | 0/42 [00:00<?, ?it/s]"
      ]
     },
     "metadata": {},
     "output_type": "display_data"
    },
    {
     "data": {
      "application/vnd.jupyter.widget-view+json": {
       "model_id": "2a0f44099a5f4766ba6ea712b708f403",
       "version_major": 2,
       "version_minor": 0
      },
      "text/plain": [
       "page:   0%|          | 0/35 [00:00<?, ?it/s]"
      ]
     },
     "metadata": {},
     "output_type": "display_data"
    },
    {
     "data": {
      "application/vnd.jupyter.widget-view+json": {
       "model_id": "51a3fce301b743859922d7806c55e09f",
       "version_major": 2,
       "version_minor": 0
      },
      "text/plain": [
       "page:   0%|          | 0/56 [00:00<?, ?it/s]"
      ]
     },
     "metadata": {},
     "output_type": "display_data"
    },
    {
     "data": {
      "application/vnd.jupyter.widget-view+json": {
       "model_id": "820b55153b92496e998d38724fc5a3a9",
       "version_major": 2,
       "version_minor": 0
      },
      "text/plain": [
       "page:   0%|          | 0/38 [00:00<?, ?it/s]"
      ]
     },
     "metadata": {},
     "output_type": "display_data"
    },
    {
     "data": {
      "application/vnd.jupyter.widget-view+json": {
       "model_id": "178c92b356bf48309db2ca442074c8de",
       "version_major": 2,
       "version_minor": 0
      },
      "text/plain": [
       "page:   0%|          | 0/3 [00:00<?, ?it/s]"
      ]
     },
     "metadata": {},
     "output_type": "display_data"
    },
    {
     "data": {
      "application/vnd.jupyter.widget-view+json": {
       "model_id": "d985a46369c64b73b8b571367c195c84",
       "version_major": 2,
       "version_minor": 0
      },
      "text/plain": [
       "page:   0%|          | 0/20 [00:00<?, ?it/s]"
      ]
     },
     "metadata": {},
     "output_type": "display_data"
    },
    {
     "data": {
      "application/vnd.jupyter.widget-view+json": {
       "model_id": "50c19ae4b2d14fe78065ff8efdc01f41",
       "version_major": 2,
       "version_minor": 0
      },
      "text/plain": [
       "page:   0%|          | 0/6 [00:00<?, ?it/s]"
      ]
     },
     "metadata": {},
     "output_type": "display_data"
    },
    {
     "data": {
      "application/vnd.jupyter.widget-view+json": {
       "model_id": "2e6d3b73e34c456e91ed7d68f204b61a",
       "version_major": 2,
       "version_minor": 0
      },
      "text/plain": [
       "page:   0%|          | 0/24 [00:00<?, ?it/s]"
      ]
     },
     "metadata": {},
     "output_type": "display_data"
    },
    {
     "data": {
      "application/vnd.jupyter.widget-view+json": {
       "model_id": "1954b79ad2654186bea7cf9c83cdcd18",
       "version_major": 2,
       "version_minor": 0
      },
      "text/plain": [
       "page:   0%|          | 0/6 [00:00<?, ?it/s]"
      ]
     },
     "metadata": {},
     "output_type": "display_data"
    },
    {
     "data": {
      "application/vnd.jupyter.widget-view+json": {
       "model_id": "702f76e42edd493bbc6e123dae4dc340",
       "version_major": 2,
       "version_minor": 0
      },
      "text/plain": [
       "page:   0%|          | 0/33 [00:00<?, ?it/s]"
      ]
     },
     "metadata": {},
     "output_type": "display_data"
    },
    {
     "data": {
      "application/vnd.jupyter.widget-view+json": {
       "model_id": "4366778cc1a84fd49921d4b7fa830491",
       "version_major": 2,
       "version_minor": 0
      },
      "text/plain": [
       "page:   0%|          | 0/83 [00:00<?, ?it/s]"
      ]
     },
     "metadata": {},
     "output_type": "display_data"
    },
    {
     "data": {
      "application/vnd.jupyter.widget-view+json": {
       "model_id": "08877995a2494201898b9857c4157188",
       "version_major": 2,
       "version_minor": 0
      },
      "text/plain": [
       "page:   0%|          | 0/7 [00:00<?, ?it/s]"
      ]
     },
     "metadata": {},
     "output_type": "display_data"
    },
    {
     "data": {
      "application/vnd.jupyter.widget-view+json": {
       "model_id": "7781b19446b24128a22b5221792c5483",
       "version_major": 2,
       "version_minor": 0
      },
      "text/plain": [
       "page:   0%|          | 0/6 [00:00<?, ?it/s]"
      ]
     },
     "metadata": {},
     "output_type": "display_data"
    },
    {
     "data": {
      "application/vnd.jupyter.widget-view+json": {
       "model_id": "74458a98ae49427ba694e5ee7592a96c",
       "version_major": 2,
       "version_minor": 0
      },
      "text/plain": [
       "page:   0%|          | 0/42 [00:00<?, ?it/s]"
      ]
     },
     "metadata": {},
     "output_type": "display_data"
    },
    {
     "data": {
      "application/vnd.jupyter.widget-view+json": {
       "model_id": "ba2ec20330ad47a1aeb296f036a4bd2f",
       "version_major": 2,
       "version_minor": 0
      },
      "text/plain": [
       "page:   0%|          | 0/40 [00:00<?, ?it/s]"
      ]
     },
     "metadata": {},
     "output_type": "display_data"
    },
    {
     "data": {
      "application/vnd.jupyter.widget-view+json": {
       "model_id": "9bee8647668b4dc3a5c8c39456c44a16",
       "version_major": 2,
       "version_minor": 0
      },
      "text/plain": [
       "page:   0%|          | 0/47 [00:00<?, ?it/s]"
      ]
     },
     "metadata": {},
     "output_type": "display_data"
    },
    {
     "data": {
      "application/vnd.jupyter.widget-view+json": {
       "model_id": "eb67553bebe74c02bee0c6fb5ab220a0",
       "version_major": 2,
       "version_minor": 0
      },
      "text/plain": [
       "page:   0%|          | 0/45 [00:00<?, ?it/s]"
      ]
     },
     "metadata": {},
     "output_type": "display_data"
    }
   ],
   "source": [
    "start = 0\n",
    "for index, page in tqdm(list(enumerate(book))[start:], desc='page'):\n",
    "    try:\n",
    "        new_page = run_translate(page)\n",
    "        new_book.append(new_page)\n",
    "    except Exception:\n",
    "        print(index)\n",
    "        break\n",
    "    "
   ]
  },
  {
   "cell_type": "code",
   "execution_count": 42,
   "metadata": {},
   "outputs": [],
   "source": [
    "from ebooklib import epub\n",
    "\n",
    "# Функция для преобразования страницы в HTML\n",
    "def page_to_html(page):\n",
    "    title = page[0]\n",
    "    content_lines = page[1:]\n",
    "    \n",
    "    # Формирование HTML-кода\n",
    "    html = f\"<html><body><h1>{title}</h1>\"\n",
    "    for line in content_lines:\n",
    "        html += f\"<p>{line}</p>\"\n",
    "    html += \"</body></html>\"\n",
    "    \n",
    "    return html\n",
    "\n",
    "\n",
    "\n",
    "def create_epub(book, filename, title_book, cover_image_path=None):\n",
    "    # Создаем EPUB книгу\n",
    "    epub_book = epub.EpubBook()\n",
    "    \n",
    "    # Устанавливаем метаданные книги\n",
    "    epub_book.set_identifier('sample123456')\n",
    "    epub_book.set_title(title_book)\n",
    "    epub_book.set_language('ru')\n",
    "\n",
    "    \n",
    "    # Добавляем главы\n",
    "    for i, page in enumerate(book):\n",
    "        title = page[0]\n",
    "                \n",
    "        # Создаем HTML контент\n",
    "        html_content = page_to_html(page)\n",
    "\n",
    "        # Создаем EPUB запись\n",
    "        chapter = epub.EpubHtml(title=title, file_name=f'chapter_{i}.xhtml', lang='ru')\n",
    "        chapter.set_content(html_content)\n",
    "        \n",
    "        # Добавляем главу в книгу\n",
    "        epub_book.add_item(chapter)\n",
    "        epub_book.spine.append(chapter)\n",
    "    # style = 'body { font-family: Times, Times New Roman, serif; }'\n",
    "\n",
    "    # nav_css = epub.EpubItem(uid=\"style_nav\",\n",
    "    #                         file_name=\"style/nav.css\",\n",
    "    #                         media_type=\"text/css\",\n",
    "    #                         content=style)\n",
    "    # epub_book.add_item(nav_css)\n",
    "    \n",
    "    # Добавляем стандартные метаданные\n",
    "    epub_book.add_item(epub.EpubNav())\n",
    "    # # Добавление обложки, если указано изображение\n",
    "    # if cover_image_path:\n",
    "    #     with open(cover_image_path, 'rb') as cover_image_file:\n",
    "    #         cover_image = cover_image_file.read()\n",
    "    #     cover_image_type = \"image/png\" if cover_image_path.lower().endswith(\".png\") else \"image/jpeg\"\n",
    "    #     epub_cover = epub.EpubItem(\n",
    "    #         uid=\"cover\",\n",
    "    #         file_name=\"cover.png\" if cover_image_type == \"image/png\" else \"cover.jpg\",\n",
    "    #         media_type=cover_image_type,\n",
    "    #         content=cover_image\n",
    "    #     )\n",
    "    #     epub_book.add_item(epub_cover)\n",
    "    #     epub_book.set_cover(epub_cover.file_name, cover_image)\n",
    "\n",
    "    # Сохраняем EPUB файл\n",
    "    epub.write_epub(filename, epub_book)"
   ]
  },
  {
   "cell_type": "code",
   "execution_count": 43,
   "metadata": {},
   "outputs": [],
   "source": [
    "create_epub(new_book, 'Genetic Ascension.epub', 'Genetic Ascension', 'test.jpg')"
   ]
  },
  {
   "cell_type": "code",
   "execution_count": 141,
   "metadata": {},
   "outputs": [],
   "source": [
    "cover_image_path = 'test.jpg'\n",
    "\n",
    "with open(cover_image_path, 'rb') as cover_image_file:\n",
    "            cover_image = cover_image_file.read()"
   ]
  },
  {
   "cell_type": "code",
   "execution_count": 12,
   "metadata": {},
   "outputs": [
    {
     "data": {
      "text/plain": [
       "'<html><body><h1>Глава 1 Наихудший сценарий</h1><p>Сайлас сбросил лабораторный халат, одной рукой разгладил черную рубашку на пуговицах, а другой повесил длинный белый халат.</p><p>Даже после долгого дня, проведенного в лаборатории, где он работал с различными токсинами, на него, казалось, это нисколько не повлияло. Его стальные зеленые глаза за очками в черной оправе смотрели все так же бесстрастно, а его подтянутое, хотя и худощавое телосложение по-прежнему сохраняло жесткую осанку.</p><p>Когда он выходил из университета, его приветствовали проходящие мимо студенты и профессора. Он вежливо, но коротко кивнул каждому из них, его шаги были широкими и почти энергичными.</p><p>Осенний воздух был немного прохладным, но освежал его обоняние. Университет имел довольно открытую концепцию дизайна, и после того, как мы спустились с лабораторий на верхнем этаже, первый этаж представлял собой не что иное, как большие арочные колонны, которые поддерживали верхние этажи и впускали порывы ветра и природы.</p><p>\"Уже темнеет. Рановато для этого\", - подумал он.</p><p>Приближалась зима, и летнее время уже прошло, но было еще около четырех часов. Солнце, вероятно, должно было начать садиться не раньше пяти.</p><p>Сайласу это показалось немного любопытным.</p><p>— ...Это все из-за глобального потепления, говорю вам. Уже первая неделя декабря, а вы видели хоть каплю снега? Говорю вам, эти коричневые, они просто...</p><p>Сайлас не замедлил шага, проходя мимо тележки с хот-догами. Он уловил часть разговора, но не собирался замедлять шаг, чтобы не вмешаться.</p><p>Кроме того, какое отношение глобальное потепление может иметь к смене дня и ночи?</p><p>\"...Это возможно\", - подумал Сайлас. \"Если на северном и южном полюсах произойдут значительные изменения, наклон Земли может измениться настолько, что дневной свет...\"</p><p>В голове Сайласа промелькнула цепочка мыслей, за которыми последовала еще более длинная цепочка уравнений и вычислений. Он не стал отвлекаться от этих мыслей; это был приятный способ скоротать время на ходу.</p><p>Мир - интересное место. Он сомневался, что торговец хот-догами знал обо всем этом, и многие могли бы посмеяться над его утверждениями, но, возможно, в этом была доля правды.</p><p>Сайлас все еще не верил, что это произойдет.</p><p>Половина мира считала, что глобальное потепление положит конец всему сущему. Другая половина считала, что это была раздутая до предела неразбериха, созданная нагнетателями страха.</p><p>Сайлас, как и большинство людей, чувствовал, что истина находится где-то посередине, хотя потенциально склоняется скорее в одну сторону, чем в другую.</p><p>В итоге он потратил довольно много времени на решение этой проблемы, и не успел он опомниться, как перед ним оказался его дом.</p><p>Имея дом так близко к университету, Сайлас, вернее, его семья, был вполне обеспечен. К загородному дому прилагался гараж на три машины, хорошо подстриженный газон и достаточное расстояние между домами, которое можно было бы ожидать от закрытого сообщества, полного представителей высшего класса общества.</p><p>Сайлас открыл незапертую дверь и наклонился, чтобы снять парадные туфли. Однако неожиданно до него донесся шум, гораздо более сильный, чем он ожидал услышать в своем доме.</p><p>Шум был приглушенным, так что он не мог разобрать точных слов, но там определенно шел спор.</p><p>Его безразличие сменилось хмурым взглядом.</p><p>Он жил со своими матерью, отцом, дедушкой и младшей сестрой. Их семью можно было назвать гармоничной, и ему всю жизнь очень везло. Больше всего его родители спорили о том, что приготовить на ужин.</p><p>Звук шагов привлек внимание Сайласа, и из гостиной появилась элегантная женщина средних лет. Маленькая девочка лет 13 прильнула к ней, в ее больших зеленых глазах стояли слезы.</p><p>У женщины средних лет было совершенно беспомощное выражение лица.</p><p>- Сайлас, ты дома, это хорошо. Ты же знаешь, я говорил тебе просто взять одну из машин. Почему ты настаиваешь на том, чтобы каждый день ходить пешком?</p><p>Сайлас уже много раз слышал эти слова, но он мог с уверенностью сказать, что его мать просто хотела отвлечься от ссоры, происходившей в подвале. Сайлас пришел к выводу, что если она была такой приглушенной, то могла происходить только там, внизу.</p><p>Подвал можно было считать \"мужской пещерой\" в доме. Именно там располагался тренажерный зал и различные игры. Нельзя сказать, что сейчас эти вещи были важны, скорее, это было место, куда отец и дед Сайласа ходили отдыхать. Было странно, что между ними там, внизу, разгорелся спор.</p><p>Если только в этом не был замешан кто-то еще?</p><p>Сайлас сомневался в этом.</p><p>Его родители были профессионалами в бизнесе, но у них была строгая политика \"не работать на дому\". Так что это не мог быть коллега. Но он также не мог припомнить друзей его родителей, которые могли бы спровоцировать такой серьезный спор.</p><p>- Это недалеко, мама.</p><p>Он подошел к сестре и погладил ее по маленькой головке, пытаясь утешить.</p><p>- Это как минимум пять километров. Только посмотри, небо уже потемнело, а твои последние уроки закончились в четыре. Ты же знаешь, что сейчас на улице небезопасно.\"</p><p>Сайлас безропотно выслушивал нытье своей матери. Если бы он так сильно заботился о том, чтобы сбежать от семьи, будучи 26-летним парнем, который уже получил место в университете, он мог бы уже давно уехать.</p><p>Жизнь на воле не слишком привлекала его.</p><p>У него было довольно много друзей, хотя и не самых лучших.</p><p>В прошлом у него были девушки, но большинство из них были увлечены идеалом того, кем он был, а не тем, кем он был на самом деле.</p><p>Он не был любителем выпивки, вечеринок или курения.</p><p>Всех причин, по которым он мог бы стремиться скрыться от ястребиных глаз своей матери, просто не существовало.</p><p>- Я пойду посмотрю, что происходит, - наконец выдавил Сайлас из себя.</p><p>Его мать поколебалась, но в конце концов кивнула. Она не хотела становиться между мужем и свекром. Действительно, было бы лучше, если бы Сайлас поехал.</p><p>Сайлас кивнул и направился по коридору, открыл дверь в подвал и спустился вниз.</p><p>Ярость, которую он ожидал, не обрушилась на него. Вместо этого на него накатили волны раздражения. Чем меньше вы слышали об этом, тем хуже это звучало. Но, похоже, его отец и дед на самом деле не нуждались ни в каком посредничестве.</p><p>\"—Седрик, я твой отец. Когда это я сбивал тебя с пути истинного? Возвращение - лучший вариант, который у нас есть на данный момент\".</p><p>\"Папа, все это не имеет никакого смысла. Ты хочешь, чтобы мы собрали вещи и внезапно отправились на другой конец света. Это слишком нелепо. Сайлас только приступил к исполнению своих обязанностей, а Элара заканчивает последний год средней школы. Как мы можем так с ними поступить?\"</p><p>- Вопросы светского мира перестанут иметь значение всего через несколько месяцев, Седрик. Неужели ты не понимаешь?</p><p>\"нет! Нет, я не понимаю! Ты твердишь мне эту чушь с тех пор, как я был ребенком, и я никогда в это не верил.\"</p><p>Сайлас вошел и увидел, что эти двое стоят друг против друга по обе стороны бильярдного стола. Лицо его отца было практически красным, а дедушка хмурил брови.</p><p>- Ты никогда не хотел меня слушать. Если твоя мать...</p><p>В этот момент они оба заметили Сайласа. Сайлас почувствовал, что выбрал удачный момент, потому что у него было предчувствие, что его дедушка вот-вот скажет что-то такое, от чего раздражение перерастет в ярость.</p><p>Его бабушка умерла давным-давно, еще до того, как Сайлас родился. Но, согласно тому, что он знал, она одна растила Седрика, пока ему не исполнилось десять лет. После ее смерти Магнус вернулся и выполнил свои отцовские обязанности.</p><p>Сайлас не знал больше ничего об этой ситуации, поскольку не имел права спрашивать. Какой ребенок знает все подробности прошлого своих родителей? Ему также не нравилась идея копаться в травме своего отца.</p><p>Тем не менее, он знал достаточно, чтобы понимать, что его дедушка, воспитывающий его бабушку, станет легким билетом в один конец к краху.</p><p>Была пятница, и он не хотел, чтобы его выходные были испорчены из-за этого.</p><p>- Сайлас, - заговорил Седрик, слегка смутившись.</p><p>Честно говоря, в тот момент, когда Магнус упомянул о своей матери, он уже покраснел. Не только он, но даже Магнус, казалось, вздохнул с облегчением.</p><p>- Что происходит? - спросил я. - Спросил Сайлас.</p><p>- Это просто...</p><p>Магнус и Седрик посмотрели друг на друга.</p><p>- Тебе уже 26 лет, Сайлас. Есть несколько вещей, которые ты должен знать, - наконец сказал Седрик.</p><p>Глядя на вялую реакцию сына на эти слова, Седрик усмехнулся. Он собирался сообщить какую-то важную новость, но Сайлас уже перешел в режим анализа.</p><p>- Забудь об этом. Ничего страшного. С Браунами нас можно считать одной семьей.</p><p>Сайлас приподнял бровь.</p><p>Семья Браун была синонимом элиты. На данный момент они были самой богатой семьей в мире, вырастили трех миллиардеров только в этом поколении и, вероятно, могли бы обрушить ВВП страны среднего размера во вторник, если бы почувствовали, что их утренний кофе был слишком холодным.</p><p>Тот торговец хот-догами пытался обвинить их в глобальном потеплении, но Сайлас на самом деле не винил его. Крупнейшей отраслью, в которой начинала свою деятельность семья Браун, была бумажная промышленность. Хотя с тех пор они выросли, у них все еще оставался довольно большой кусок этого пирога, и они вырубили изрядную долю пышных лесов.</p><p>Тем не менее, реакция Сайласа была в основном такой, как ожидали Магнус и Седрик.</p><p>«ну и что?</p><p>Магнус вздохнул. - Я скажу тебе то, что говорил твоему отцу все эти годы. Он мне не верит, но что еще я могу сделать на старости лет?</p><p>Седрик скрестил руки на груди. Если этот старик не смог убедить его, то как он собирался убедить своего сына, обладающего логическими способностями?</p><p>Магнус, казалось, тоже это понял, но он просто стиснул зубы и продолжил.</p><p>- Самые могущественные семьи в мире существуют не только для показухи. Всегда найдутся вещи, которые они знают, а простые люди - нет. Ты согласен с этим, Сайлас?</p><p>\"Я верю\".</p><p>Сайлас серьезно кивнул. Наивно было думать иначе.</p><p>Он не верил ни в теоретиков консорциума, ни в сторонников правительства. Как и в большинстве случаев, он полагал, что ответ находится где-то посередине.</p><p>\"хорошо.\" Магнус кивнул, чувствуя некоторую надежду. - Я перейду прямо к делу. Скоро мир вступит в состояние полного переворота. Наш лучший шанс выжить - это вернуться в семейное поместье Браунов.</p><p>\"Какого рода потрясения? Война?\" Спросил Сайлас.</p><p>- Да, - быстро сказал Магнус, заставив Седрика закатить глаза.</p><p>- Он пытается обелить это. Старик верит, что грядет катастрофическое событие апокалиптического уровня. Война может быть лишь одним из многих последствий.</p><p>Сайлас погрузился в молчание.</p><p>У его деда не было никаких признаков слабоумия. На самом деле, даже сейчас он выглядел вполне здоровым.</p><p>У Магнуса была румяная бронзовая кожа, светлая голова и белая борода, и он держался так же, как все мужчины в их семье.</p><p>Несмотря на то, что ему было чуть за семьдесят, всего два месяца назад он пробежал полумарафон.</p><p>У слабоумия, очевидно, не было внешних признаков, но Сайлас не замечал ничего необычного и каждый день общался со своим дедушкой.</p><p>Кроме того, его дед никогда раньше не говорил о таких нелепых вещах. Это еще больше склонило его к тому, чтобы поверить ему.</p><p>- А нет ли простого способа проверить? Помолчав, спросил Сайлас.</p><p>Торжествующая улыбка Седрика стала горькой, а глаза Магнуса загорелись.</p><p>Сайлас отошел в сторону и отключил ноутбук, на плоском экране которого транслировался фильм. На экране была изображена принцесса из мультфильма, поэтому Сайлас предположил, что его сестра была здесь до того, как началась ссора.</p><p>Он вернулся и положил ноутбук на бильярдный стол на виду у отца и деда.</p><p>\"Я могу назвать несколько самых элитных семей в мире, но, чтобы проверить, нам действительно нужно сосредоточиться только на трех. Давайте остановимся на Браунах, семье Абади и семье Рауз.</p><p>\"У всех трех этих семей есть высокопоставленные члены, чьи истории полетов отслеживаются, и у всех троих есть общеизвестные адреса недвижимости\".</p><p>Сайлас поднял взгляд на своего деда. - Адрес Браунов совпадает с общедоступным?</p><p>Он развернул ноутбук экраном к деду. На экране появилось изображение местности в Аппалачах.</p><p>- Да, это то самое место, - кивнул Магнус.</p><p>«хорошо. Это означает, что мы можем обоснованно заключить, что если будет наблюдаться приток \"возвращенцев\", то многие из этих известных людей также вернутся домой.</p><p>\"Люциус Браун… Малахия Браун… Астрид Браун...\"</p><p>Эти трое были всего лишь тремя миллиардерами, которых семья Браун создала в этом поколении. Всем им было за сорок, и они добились успеха в своих собственных уникальных отраслях.</p><p>Сайлас нахмурился.</p><p>Седрик нахмурился.</p><p>Магнус рассмеялся.</p><p>Сайлас открыл новую вкладку.</p><p>\"Каэль Абади… Ашер Абади...\"</p><p>Сайлас нахмурился еще сильнее.</p><p>\"Рагнар Рауз… Торн Рауз… Дрейвен Рауз...\"</p><p>У каждого из них, снова и снова, в обязательном порядке, были истории полетов, которые отслеживали их до их поместий, и ни одного после. И все это за последнюю неделю.</p><p>Пальцы Сайласа забегали по клавиатуре, как будто он играл на пианино. Казалось, что они расплываются, когда он двигался быстрее. Он даже забыл о присутствии своих деда и отца, открывая вкладку за вкладкой. Виссит н𝒐велбин(.)с𝒐м для 𝒏двух 𝒏яиц</p><p>Он сказал, что остановится на трех семьях, но не остановился. Он изучил все влиятельные семьи, о которых только мог подумать, целую дюжину из них, прежде чем был удовлетворен. Он даже проверил некоторые из самых незначительных, которые, по его мнению, не были такими уж особенными по сравнению с остальными, и это ничего не изменило.</p><p>Сайлас едва не захлопнул ноутбук.</p><p>\"Я не знаю, насколько правдивы слова дедушки, но нам нужно идти. В худшем случае мы вернемся в понедельник\".</p><p>Выражение лица Седрика было серьезным. Он посмотрел на своего отца, но Магнус перестал злорадствовать, как будто Сайлас только что убедил и его.</p><p>…</p><p>В ту ночь Сайлас лежал в тишине, глядя в тусклый потолок своей комнаты.</p><p>- Это что, волнение такое?</p><p>Он не мог вспомнить, когда в последний раз испытывал подобное. Даже те редкие змеи, с которыми он работал, змеи, способные убить слона одним укусом, не вызывали у него такого учащенного сердцебиения.</p><p>Мир казался ему просто... скучным. Иногда он жалел, что не стал религиозным человеком, просто чтобы чувствовать уверенность в том, что его ждет нечто большее.</p><p>Это как раз может быть так.</p><p>Сайлас оглянулся, когда дверь его комнаты со скрипом отворилась. В комнату заглянула маленькая Манчкин, одетая в розовую ночную рубашку, которая почти волочилась по полу.</p><p>Сайлас слегка улыбнулся. Похоже, из-за того, что Элара сегодня расплакалась, ей не хотелось спать одной.</p><p>- Хорошо, но ты становишься слишком большим для этого, знаешь ли.</p><p>Элара надула губки и все равно юркнула в его постель. Она нырнула под его одеяло и заняла половину его кровати, игнорируя его, как будто его там вообще не было.</p><p>Это, казалось, несколько успокоило Сайласа, и он почувствовал, что сон, в конце концов, не так уж далек.</p><p>- Сайлас, я снова увижу своих друзей?</p><p>- Может быть, - ответил он после некоторой паузы.</p><p>- Хм, мама с папой сказали \"определенно\". Я знал, что они лгут.</p><p>Сайлас горько улыбнулся. Казалось, его снова могут отругать за это.</p><p>- Я уверен, что с ними все будет в порядке, - наконец сказал Сайлас.</p><p>В конце концов, эти семьи ведь не собирались бежать в открытый космос, верно? В конечном счете, они все были на одной планете. Это означало, что у каждого был шанс выжить.</p><p>Хотя… Сайлас знал, что эти шансы, по его расчетам, были слишком малы.</p></body></html>'"
      ]
     },
     "execution_count": 12,
     "metadata": {},
     "output_type": "execute_result"
    }
   ],
   "source": [
    "page_to_html(new_book[0])"
   ]
  },
  {
   "cell_type": "code",
   "execution_count": 26,
   "metadata": {},
   "outputs": [],
   "source": [
    "from ebooklib import epub\n",
    "\n",
    "book = epub.EpubBook()"
   ]
  },
  {
   "cell_type": "code",
   "execution_count": 27,
   "metadata": {},
   "outputs": [],
   "source": [
    "book.set_identifier('sample123456')\n",
    "book.set_title('Sample book')\n",
    "book.set_language('en')\n",
    "\n",
    "book.add_author('Aleksandar Erkalovic')"
   ]
  },
  {
   "cell_type": "code",
   "execution_count": 28,
   "metadata": {},
   "outputs": [],
   "source": [
    "book.add_metadata('DC', 'description', 'This is description for my book')\n",
    "book.add_metadata(None, 'meta', '', {'name': 'key', 'content': 'value'})"
   ]
  },
  {
   "cell_type": "code",
   "execution_count": 29,
   "metadata": {},
   "outputs": [],
   "source": [
    "# intro chapter\n",
    "c1 = epub.EpubHtml(title='Introduction',\n",
    "                   file_name='intro.xhtml',\n",
    "                   lang='en')\n",
    "c1.set_content(u'<html><body><h1>Introduction</h1><p>Introduction paragraph.</p></body></html>')\n",
    "# about chapter\n",
    "c2 = epub.EpubHtml(title='About this book',\n",
    "                   file_name='about.xhtml')\n",
    "c2.set_content('<h1>About this book</h1><p>This is a book.</p>')"
   ]
  },
  {
   "cell_type": "code",
   "execution_count": 30,
   "metadata": {},
   "outputs": [
    {
     "data": {
      "text/plain": [
       "<ebooklib.epub.EpubHtml at 0x14152270ec0>"
      ]
     },
     "execution_count": 30,
     "metadata": {},
     "output_type": "execute_result"
    }
   ],
   "source": [
    "book.add_item(c1)\n",
    "book.add_item(c2)"
   ]
  },
  {
   "cell_type": "code",
   "execution_count": 31,
   "metadata": {},
   "outputs": [
    {
     "data": {
      "text/plain": [
       "<ebooklib.epub.EpubItem at 0x1415246c440>"
      ]
     },
     "execution_count": 31,
     "metadata": {},
     "output_type": "execute_result"
    }
   ],
   "source": [
    "style = 'body { font-family: Times, Times New Roman, serif; }'\n",
    "\n",
    "nav_css = epub.EpubItem(uid=\"style_nav\",\n",
    "                        file_name=\"style/nav.css\",\n",
    "                        media_type=\"text/css\",\n",
    "                        content=style)\n",
    "book.add_item(nav_css)"
   ]
  },
  {
   "cell_type": "code",
   "execution_count": 32,
   "metadata": {},
   "outputs": [],
   "source": [
    "book.spine = ['nav', c1, c2]"
   ]
  },
  {
   "cell_type": "code",
   "execution_count": 33,
   "metadata": {},
   "outputs": [
    {
     "data": {
      "text/plain": [
       "<ebooklib.epub.EpubNav at 0x14151ffd7c0>"
      ]
     },
     "execution_count": 33,
     "metadata": {},
     "output_type": "execute_result"
    }
   ],
   "source": [
    "book.add_item(epub.EpubNcx())\n",
    "book.add_item(epub.EpubNav())"
   ]
  },
  {
   "cell_type": "code",
   "execution_count": 34,
   "metadata": {},
   "outputs": [],
   "source": [
    "epub.write_epub('test.epub', book)"
   ]
  },
  {
   "cell_type": "code",
   "execution_count": 39,
   "metadata": {},
   "outputs": [
    {
     "data": {
      "text/plain": [
       "[3, 1, 2]"
      ]
     },
     "execution_count": 39,
     "metadata": {},
     "output_type": "execute_result"
    }
   ],
   "source": [
    "a = [1, 2]\n",
    "b = [3, *a]\n",
    "b"
   ]
  }
 ],
 "metadata": {
  "kernelspec": {
   "display_name": "Python 3",
   "language": "python",
   "name": "python3"
  },
  "language_info": {
   "codemirror_mode": {
    "name": "ipython",
    "version": 3
   },
   "file_extension": ".py",
   "mimetype": "text/x-python",
   "name": "python",
   "nbconvert_exporter": "python",
   "pygments_lexer": "ipython3",
   "version": "3.12.2"
  }
 },
 "nbformat": 4,
 "nbformat_minor": 2
}
