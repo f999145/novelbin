{
 "cells": [
  {
   "cell_type": "code",
   "execution_count": null,
   "metadata": {},
   "outputs": [],
   "source": [
    "dict_rep = {\n",
    "    '\\u2002': ' ',\n",
    "    '\\u2009': ' ',\n",
    "    '…': '',\n",
    "    '': '',\n",
    "    '': '',\n",
    "    '': '',\n",
    "    '': '',\n",
    "    '': '',\n",
    "}"
   ]
  }
 ],
 "metadata": {
  "language_info": {
   "name": "python"
  }
 },
 "nbformat": 4,
 "nbformat_minor": 2
}
