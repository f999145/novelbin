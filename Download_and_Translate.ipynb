{
 "cells": [
  {
   "cell_type": "code",
   "execution_count": 1,
   "metadata": {},
   "outputs": [],
   "source": [
    "from bs4 import BeautifulSoup as BS\n",
    "import re\n",
    "from time import sleep\n",
    "import requests\n",
    "from yandexfreetranslate import YandexFreeTranslate\n",
    "from multiprocessing.dummy import Pool as ThreadPool\n",
    "from tqdm.notebook import tqdm\n",
    "import pandas as pd\n",
    "from pathlib import Path\n",
    "from ebooklib import epub\n",
    "from random import randint\n",
    "import json"
   ]
  },
  {
   "cell_type": "code",
   "execution_count": 2,
   "metadata": {},
   "outputs": [],
   "source": [
    "folder = Path('books')\n",
    "name = 'shadow-slave'\n",
    "name = 'this-beast-tamer-is-a-little-strange'"
   ]
  },
  {
   "cell_type": "code",
   "execution_count": 3,
   "metadata": {},
   "outputs": [],
   "source": [
    "url = 'https://novelbjn.novelupdates.net/ajax/chapter-option'\n",
    "\n",
    "params = {\n",
    "    'novelId': name,\n",
    "}\n",
    "\n",
    "res_links = requests.get(url=url, params=params, timeout=20)\n",
    "page = BS(res_links.text, 'html.parser')\n",
    "links = list(map(lambda x: x.get('value'), page.find('body').find_all('option')))\n"
   ]
  },
  {
   "cell_type": "code",
   "execution_count": 4,
   "metadata": {},
   "outputs": [],
   "source": [
    "links = list(map(lambda x: re.sub(r'(.*:\\/\\/.*?\\/)', 'https://novelbjn.novelmagic.org/', x), links))"
   ]
  },
  {
   "cell_type": "code",
   "execution_count": 5,
   "metadata": {},
   "outputs": [],
   "source": [
    "book = []"
   ]
  },
  {
   "cell_type": "code",
   "execution_count": 6,
   "metadata": {},
   "outputs": [],
   "source": [
    "start = 0\n",
    "start_book = len(links) - len(links[start:])"
   ]
  },
  {
   "cell_type": "code",
   "execution_count": 7,
   "metadata": {},
   "outputs": [
    {
     "data": {
      "application/vnd.jupyter.widget-view+json": {
       "model_id": "d87a30b71da340c0a24bdbbbc58cc371",
       "version_major": 2,
       "version_minor": 0
      },
      "text/plain": [
       "  0%|          | 0/364 [00:00<?, ?it/s]"
      ]
     },
     "metadata": {},
     "output_type": "display_data"
    }
   ],
   "source": [
    "for url in tqdm(links[start:]):\n",
    "    headers = {\n",
    "        'user-agent': 'Mozilla/5.0 (Windows NT 10.0; Win64; x64) AppleWebKit/537.36 (KHTML, like Gecko) Chrome/127.0.0.0 Safari/537.36',\n",
    "    }\n",
    "\n",
    "    for _ in range(5):\n",
    "        try:\n",
    "            res_page = requests.get(url, headers=headers, timeout=20)\n",
    "        except requests.exceptions.Timeout:\n",
    "            continue\n",
    "        except requests.exceptions.ConnectionError:\n",
    "            continue\n",
    "        else:\n",
    "            break\n",
    "    else:\n",
    "        raise(Exception('stop'))\n",
    "\n",
    "    page = BS(res_page.text, 'html.parser').find('div', id='chr-content')\n",
    "    \n",
    "\n",
    "    \n",
    "    paragraphs = BS(res_page.text, 'html.parser').find('div', id='chr-content').get_text(separator='\\n', strip=True).split('\\n')\n",
    "    book.append(paragraphs)"
   ]
  },
  {
   "cell_type": "code",
   "execution_count": 8,
   "metadata": {},
   "outputs": [
    {
     "data": {
      "text/plain": [
       "364"
      ]
     },
     "execution_count": 8,
     "metadata": {},
     "output_type": "execute_result"
    }
   ],
   "source": [
    "len(book)"
   ]
  },
  {
   "cell_type": "code",
   "execution_count": 9,
   "metadata": {},
   "outputs": [],
   "source": [
    "book = pd.Series(book).drop_duplicates().to_list()"
   ]
  },
  {
   "cell_type": "code",
   "execution_count": 10,
   "metadata": {},
   "outputs": [],
   "source": [
    "def _worker(pool_list: tuple[str, tqdm]) -> str:\n",
    "    queue, pbar = pool_list\n",
    "    if not queue.strip():\n",
    "        pbar.update(1)\n",
    "        return ''\n",
    "    yt = YandexFreeTranslate(api = \"ios\")\n",
    "    \n",
    "    for _ in range(10):\n",
    "        try:\n",
    "            text = yt.translate(\"en\", \"ru\", queue)\n",
    "        except Exception:\n",
    "            sleep(0.5)\n",
    "            continue\n",
    "        else:\n",
    "            break\n",
    "    else:\n",
    "        text = queue\n",
    "        pbar.write(str(queue))\n",
    "    pbar.update(1)\n",
    "    return text\n",
    "    \n",
    "\n",
    "def run_translate(lst: list[str], pbar: tqdm)-> list[str]:\n",
    "    pbar.reset(len(lst))\n",
    "    pool_list = list(zip(lst, [pbar]*len(lst)))\n",
    "    with ThreadPool(8) as pool:\n",
    "        workreturn = pool.map(_worker, pool_list)\n",
    "    return workreturn"
   ]
  },
  {
   "cell_type": "code",
   "execution_count": 11,
   "metadata": {},
   "outputs": [],
   "source": [
    "new_book = []"
   ]
  },
  {
   "cell_type": "code",
   "execution_count": 12,
   "metadata": {},
   "outputs": [
    {
     "data": {
      "application/vnd.jupyter.widget-view+json": {
       "model_id": "ca5e05be71d64df181a60adf62b8a0af",
       "version_major": 2,
       "version_minor": 0
      },
      "text/plain": [
       "page: 0it [00:00, ?it/s]"
      ]
     },
     "metadata": {},
     "output_type": "display_data"
    },
    {
     "data": {
      "application/vnd.jupyter.widget-view+json": {
       "model_id": "8d5ec241f0344a9aaf3dde78147815a8",
       "version_major": 2,
       "version_minor": 0
      },
      "text/plain": [
       "row: 0it [00:00, ?it/s]"
      ]
     },
     "metadata": {},
     "output_type": "display_data"
    }
   ],
   "source": [
    "pbar1 = tqdm(desc='page')\n",
    "pbar2 = tqdm(desc='row')\n",
    "pbar1.reset(len(links[start:]))\n",
    "for index, page in list(enumerate(book, start=start_book)):\n",
    "    try:\n",
    "        new_page = run_translate(page, pbar2)\n",
    "        new_book.append(new_page)\n",
    "    except Exception:\n",
    "        print(index)\n",
    "        break\n",
    "    pbar1.update()\n",
    "pbar1.close()\n",
    "pbar2.close()\n",
    "    "
   ]
  },
  {
   "cell_type": "code",
   "execution_count": 15,
   "metadata": {},
   "outputs": [],
   "source": [
    "with open('books/last_book.json', 'w', encoding='utf-8') as file:\n",
    "    json.dump(new_book, file, ensure_ascii=False, indent=4)"
   ]
  },
  {
   "cell_type": "code",
   "execution_count": 14,
   "metadata": {},
   "outputs": [],
   "source": [
    "# Функция для преобразования страницы в HTML\n",
    "def page_to_html(page, title):\n",
    "    content_lines = page[:]\n",
    "    # Формирование HTML-кода\n",
    "    html = f\"<h1>{title}</h1>\"\n",
    "    for line in content_lines:\n",
    "        html += f\"<p>{line}</p>\"\n",
    "    return html\n",
    "\n",
    "\n",
    "title = name\n",
    "\n",
    "# Создание новой книги\n",
    "epub_book = epub.EpubBook()\n",
    "\n",
    "# Установка метаданных\n",
    "epub_book.set_identifier(f\"id{randint(100000,1000000)}\")\n",
    "epub_book.set_title(title)\n",
    "epub_book.set_language(\"ru\")\n",
    "\n",
    "# Автор\n",
    "epub_book.add_author(\"None\")\n",
    "# epub_book.spine.append('nav')\n",
    "# Обработка каждой страницы\n",
    "for i, page in enumerate(new_book, start=start_book):\n",
    "    # Создание главы\n",
    "    chapter_title = f'Глава {i+1:04d}'\n",
    "    chapter_content = page_to_html(page, chapter_title)\n",
    "    \n",
    "    chapter = epub.EpubHtml(title=chapter_title, file_name=f'chap_{i+1:04d}.xhtml', lang='ru')\n",
    "    chapter.content = chapter_content\n",
    "    \n",
    "    epub_book.add_item(chapter)\n",
    "    \n",
    "    # Добавление в оглавление\n",
    "    epub_book.toc.append(chapter)\n",
    "    # Упаковка всех глав в книгу\n",
    "    epub_book.spine.append(chapter)\n",
    "\n",
    "\n",
    "# Добавление оглавления\n",
    "epub_book.add_item(epub.EpubNcx())\n",
    "epub_book.add_item(epub.EpubNav())\n",
    "\n",
    "# Сохранение книги\n",
    "epub.write_epub(folder.joinpath(f'{name}.epub'), epub_book)\n"
   ]
  }
 ],
 "metadata": {
  "kernelspec": {
   "display_name": "Python 3",
   "language": "python",
   "name": "python3"
  },
  "language_info": {
   "codemirror_mode": {
    "name": "ipython",
    "version": 3
   },
   "file_extension": ".py",
   "mimetype": "text/x-python",
   "name": "python",
   "nbconvert_exporter": "python",
   "pygments_lexer": "ipython3",
   "version": "3.13.1"
  }
 },
 "nbformat": 4,
 "nbformat_minor": 2
}
