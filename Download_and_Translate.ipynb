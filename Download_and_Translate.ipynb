{
 "cells": [
  {
   "cell_type": "code",
   "execution_count": 1,
   "metadata": {},
   "outputs": [],
   "source": [
    "from bs4 import BeautifulSoup as BS\n",
    "import re\n",
    "from time import sleep\n",
    "import requests\n",
    "from yandexfreetranslate import YandexFreeTranslate\n",
    "from multiprocessing.dummy import Pool as ThreadPool\n",
    "from tqdm.notebook import tqdm\n",
    "import pandas as pd\n",
    "from pathlib import Path\n",
    "from ebooklib import epub\n",
    "from random import randint"
   ]
  },
  {
   "cell_type": "code",
   "execution_count": 2,
   "metadata": {},
   "outputs": [],
   "source": [
    "folder = Path('books')\n",
    "name = 'shadow-slave'\n",
    "name = 'pestilence-rise-of-the-pure-undead'"
   ]
  },
  {
   "cell_type": "code",
   "execution_count": 3,
   "metadata": {},
   "outputs": [],
   "source": [
    "url = 'https://novelbjn.novelupdates.net/ajax/chapter-option'\n",
    "\n",
    "params = {\n",
    "    'novelId': name,\n",
    "}\n",
    "\n",
    "res_links = requests.get(url=url, params=params, timeout=20)\n",
    "page = BS(res_links.text, 'html.parser')\n",
    "links = list(map(lambda x: x.get('value'), page.find('body').find_all('option')))\n"
   ]
  },
  {
   "cell_type": "code",
   "execution_count": 4,
   "metadata": {},
   "outputs": [
    {
     "data": {
      "text/plain": [
       "['https://novelbjn.novelupdates.net/book/pestilence-rise-of-the-pure-undead/chapter-1-witnessing-a-miracle',\n",
       " 'https://novelbjn.novelupdates.net/book/pestilence-rise-of-the-pure-undead/chapter-2-no-time-for-you',\n",
       " 'https://novelbjn.novelupdates.net/book/pestilence-rise-of-the-pure-undead/chapter-3-meaningless-floating-screen',\n",
       " 'https://novelbjn.novelupdates.net/book/pestilence-rise-of-the-pure-undead/chapter-4-kin',\n",
       " 'https://novelbjn.novelupdates.net/book/pestilence-rise-of-the-pure-undead/chapter-5-unacceptable',\n",
       " 'https://novelbjn.novelupdates.net/book/pestilence-rise-of-the-pure-undead/chapter-6-still',\n",
       " 'https://novelbjn.novelupdates.net/book/pestilence-rise-of-the-pure-undead/chapter-7-lying-in-ambush',\n",
       " 'https://novelbjn.novelupdates.net/book/pestilence-rise-of-the-pure-undead/chapter-8-something-in-the-woods',\n",
       " 'https://novelbjn.novelupdates.net/book/pestilence-rise-of-the-pure-undead/chapter-9-intrusion',\n",
       " 'https://novelbjn.novelupdates.net/book/pestilence-rise-of-the-pure-undead/chapter-10-fear',\n",
       " 'https://novelbjn.novelupdates.net/book/pestilence-rise-of-the-pure-undead/chapter-11-starved',\n",
       " 'https://novelbjn.novelupdates.net/book/pestilence-rise-of-the-pure-undead/chapter-12-easy-preys',\n",
       " 'https://novelbjn.novelupdates.net/book/pestilence-rise-of-the-pure-undead/chapter-13-stalk',\n",
       " 'https://novelbjn.novelupdates.net/book/pestilence-rise-of-the-pure-undead/chapter-14-off',\n",
       " 'https://novelbjn.novelupdates.net/book/pestilence-rise-of-the-pure-undead/chapter-15-beginning',\n",
       " 'https://novelbjn.novelupdates.net/book/pestilence-rise-of-the-pure-undead/chapter-16-from-the-fog',\n",
       " 'https://novelbjn.novelupdates.net/book/pestilence-rise-of-the-pure-undead/chapter-17-the-first-seed',\n",
       " 'https://novelbjn.novelupdates.net/book/pestilence-rise-of-the-pure-undead/chapter-18-desperation',\n",
       " 'https://novelbjn.novelupdates.net/book/pestilence-rise-of-the-pure-undead/chapter-19-emerging',\n",
       " 'https://novelbjn.novelupdates.net/book/pestilence-rise-of-the-pure-undead/chapter-20-stand',\n",
       " 'https://novelbjn.novelupdates.net/book/pestilence-rise-of-the-pure-undead/chapter-21-the-spirit',\n",
       " 'https://novelbjn.novelupdates.net/book/pestilence-rise-of-the-pure-undead/chapter-22-seven',\n",
       " 'https://novelbjn.novelupdates.net/book/pestilence-rise-of-the-pure-undead/chapter-23-in-for-it',\n",
       " 'https://novelbjn.novelupdates.net/book/pestilence-rise-of-the-pure-undead/chapter-24-no-objections',\n",
       " 'https://novelbjn.novelupdates.net/book/pestilence-rise-of-the-pure-undead/chapter-25-different',\n",
       " 'https://novelbjn.novelupdates.net/book/pestilence-rise-of-the-pure-undead/chapter-26-not-allowed',\n",
       " 'https://novelbjn.novelupdates.net/book/pestilence-rise-of-the-pure-undead/chapter-27-second-time',\n",
       " 'https://novelbjn.novelupdates.net/book/pestilence-rise-of-the-pure-undead/chapter-28-not-wanting-to-work',\n",
       " 'https://novelbjn.novelupdates.net/book/pestilence-rise-of-the-pure-undead/chapter-29-brothers',\n",
       " 'https://novelbjn.novelupdates.net/book/pestilence-rise-of-the-pure-undead/chapter-30-switch-aim',\n",
       " 'https://novelbjn.novelupdates.net/book/pestilence-rise-of-the-pure-undead/chapter-31-sadness-etched',\n",
       " 'https://novelbjn.novelupdates.net/book/pestilence-rise-of-the-pure-undead/chapter-32-prowl',\n",
       " 'https://novelbjn.novelupdates.net/book/pestilence-rise-of-the-pure-undead/chapter-33-amidst-the-ruins',\n",
       " 'https://novelbjn.novelupdates.net/book/pestilence-rise-of-the-pure-undead/chapter-34-slugfest',\n",
       " 'https://novelbjn.novelupdates.net/book/pestilence-rise-of-the-pure-undead/chapter-35-bled',\n",
       " 'https://novelbjn.novelupdates.net/book/pestilence-rise-of-the-pure-undead/chapter-36-attic',\n",
       " 'https://novelbjn.novelupdates.net/book/pestilence-rise-of-the-pure-undead/chapter-37-helena',\n",
       " 'https://novelbjn.novelupdates.net/book/pestilence-rise-of-the-pure-undead/chapter-38-scarecrow',\n",
       " 'https://novelbjn.novelupdates.net/book/pestilence-rise-of-the-pure-undead/chapter-39-long-nights-coming',\n",
       " 'https://novelbjn.novelupdates.net/book/pestilence-rise-of-the-pure-undead/chapter-40-sick-freak',\n",
       " 'https://novelbjn.novelupdates.net/book/pestilence-rise-of-the-pure-undead/chapter-41-run',\n",
       " 'https://novelbjn.novelupdates.net/book/pestilence-rise-of-the-pure-undead/chapter-42-hounds',\n",
       " 'https://novelbjn.novelupdates.net/book/pestilence-rise-of-the-pure-undead/chapter-43-that-is-certainly-true',\n",
       " 'https://novelbjn.novelupdates.net/book/pestilence-rise-of-the-pure-undead/chapter-44-wet-and-indeed-dead',\n",
       " 'https://novelbjn.novelupdates.net/book/pestilence-rise-of-the-pure-undead/chapter-45-bar-brawl',\n",
       " 'https://novelbjn.novelupdates.net/book/pestilence-rise-of-the-pure-undead/chapter-46-blown-away',\n",
       " 'https://novelbjn.novelupdates.net/book/pestilence-rise-of-the-pure-undead/chapter-47-an-accident',\n",
       " 'https://novelbjn.novelupdates.net/book/pestilence-rise-of-the-pure-undead/chapter-48-the-rot',\n",
       " 'https://novelbjn.novelupdates.net/book/pestilence-rise-of-the-pure-undead/chapter-49-gone',\n",
       " 'https://novelbjn.novelupdates.net/book/pestilence-rise-of-the-pure-undead/chapter-50-massacre-and-depth',\n",
       " 'https://novelbjn.novelupdates.net/book/pestilence-rise-of-the-pure-undead/chapter-51-eccentric',\n",
       " 'https://novelbjn.novelupdates.net/book/pestilence-rise-of-the-pure-undead/chapter-52-hunters-of-death',\n",
       " 'https://novelbjn.novelupdates.net/book/pestilence-rise-of-the-pure-undead/chapter-53-a-taste',\n",
       " 'https://novelbjn.novelupdates.net/book/pestilence-rise-of-the-pure-undead/chapter-54-dead-expanse',\n",
       " 'https://novelbjn.novelupdates.net/book/pestilence-rise-of-the-pure-undead/chapter-55-an-offer',\n",
       " 'https://novelbjn.novelupdates.net/book/pestilence-rise-of-the-pure-undead/chapter-56-burning',\n",
       " 'https://novelbjn.novelupdates.net/book/pestilence-rise-of-the-pure-undead/chapter-57-putrid-gift',\n",
       " 'https://novelbjn.novelupdates.net/book/pestilence-rise-of-the-pure-undead/chapter-58-teachings',\n",
       " 'https://novelbjn.novelupdates.net/book/pestilence-rise-of-the-pure-undead/chapter-59-faraday',\n",
       " 'https://novelbjn.novelupdates.net/book/pestilence-rise-of-the-pure-undead/chapter-60-aspects-of-energy',\n",
       " 'https://novelbjn.novelupdates.net/book/pestilence-rise-of-the-pure-undead/chapter-61-glow',\n",
       " 'https://novelbjn.novelupdates.net/book/pestilence-rise-of-the-pure-undead/chapter-62-try-it',\n",
       " 'https://novelbjn.novelupdates.net/book/pestilence-rise-of-the-pure-undead/chapter-63-double',\n",
       " 'https://novelbjn.novelupdates.net/book/pestilence-rise-of-the-pure-undead/chapter-64-quideos-audit',\n",
       " 'https://novelbjn.novelupdates.net/book/pestilence-rise-of-the-pure-undead/chapter-65-dismissed',\n",
       " 'https://novelbjn.novelupdates.net/book/pestilence-rise-of-the-pure-undead/chapter-66-sour',\n",
       " 'https://novelbjn.novelupdates.net/book/pestilence-rise-of-the-pure-undead/chapter-67-slotriig',\n",
       " 'https://novelbjn.novelupdates.net/book/pestilence-rise-of-the-pure-undead/chapter-68-progress',\n",
       " 'https://novelbjn.novelupdates.net/book/pestilence-rise-of-the-pure-undead/chapter-69-oh',\n",
       " 'https://novelbjn.novelupdates.net/book/pestilence-rise-of-the-pure-undead/chapter-70-delusion',\n",
       " 'https://novelbjn.novelupdates.net/book/pestilence-rise-of-the-pure-undead/chapter-71-truth',\n",
       " 'https://novelbjn.novelupdates.net/book/pestilence-rise-of-the-pure-undead/chapter-72-the-second-portion',\n",
       " 'https://novelbjn.novelupdates.net/book/pestilence-rise-of-the-pure-undead/chapter-73-let-the-others-try-first',\n",
       " 'https://novelbjn.novelupdates.net/book/pestilence-rise-of-the-pure-undead/chapter-74-pincer',\n",
       " 'https://novelbjn.novelupdates.net/book/pestilence-rise-of-the-pure-undead/chapter-75-bluff-and-misdirection',\n",
       " 'https://novelbjn.novelupdates.net/book/pestilence-rise-of-the-pure-undead/chapter-76-unfair',\n",
       " 'https://novelbjn.novelupdates.net/book/pestilence-rise-of-the-pure-undead/chapter-77-after',\n",
       " 'https://novelbjn.novelupdates.net/book/pestilence-rise-of-the-pure-undead/chapter-78-jungle',\n",
       " 'https://novelbjn.novelupdates.net/book/pestilence-rise-of-the-pure-undead/chapter-79-odd',\n",
       " 'https://novelbjn.novelupdates.net/book/pestilence-rise-of-the-pure-undead/chapter-80-greed',\n",
       " 'https://novelbjn.novelupdates.net/book/pestilence-rise-of-the-pure-undead/chapter-81-the-final-room',\n",
       " 'https://novelbjn.novelupdates.net/book/pestilence-rise-of-the-pure-undead/chapter-82-surprise',\n",
       " 'https://novelbjn.novelupdates.net/book/pestilence-rise-of-the-pure-undead/chapter-83-good-fun-after-years-of-confinement',\n",
       " 'https://novelbjn.novelupdates.net/book/pestilence-rise-of-the-pure-undead/chapter-84-what-a-small-world',\n",
       " 'https://novelbjn.novelupdates.net/book/pestilence-rise-of-the-pure-undead/chapter-85-crawling-out',\n",
       " 'https://novelbjn.novelupdates.net/book/pestilence-rise-of-the-pure-undead/chapter-86-intercepted',\n",
       " 'https://novelbjn.novelupdates.net/book/pestilence-rise-of-the-pure-undead/chapter-87-esteemed-character',\n",
       " 'https://novelbjn.novelupdates.net/book/pestilence-rise-of-the-pure-undead/chapter-88-short-halt',\n",
       " 'https://novelbjn.novelupdates.net/book/pestilence-rise-of-the-pure-undead/chapter-89-do-not-be-afraid',\n",
       " 'https://novelbjn.novelupdates.net/book/pestilence-rise-of-the-pure-undead/chapter-90-one-two-three-and-four',\n",
       " 'https://novelbjn.novelupdates.net/book/pestilence-rise-of-the-pure-undead/chapter-91-good-business',\n",
       " 'https://novelbjn.novelupdates.net/book/pestilence-rise-of-the-pure-undead/chapter-92-the-dead-that-live',\n",
       " 'https://novelbjn.novelupdates.net/book/pestilence-rise-of-the-pure-undead/chapter-93-no-failures',\n",
       " 'https://novelbjn.novelupdates.net/book/pestilence-rise-of-the-pure-undead/chapter-94-deceit',\n",
       " 'https://novelbjn.novelupdates.net/book/pestilence-rise-of-the-pure-undead/chapter-95-one',\n",
       " 'https://novelbjn.novelupdates.net/book/pestilence-rise-of-the-pure-undead/chapter-96-corpse-to-corpse-communication',\n",
       " 'https://novelbjn.novelupdates.net/book/pestilence-rise-of-the-pure-undead/chapter-97-agreement',\n",
       " 'https://novelbjn.novelupdates.net/book/pestilence-rise-of-the-pure-undead/chapter-98-red-entrance',\n",
       " 'https://novelbjn.novelupdates.net/book/pestilence-rise-of-the-pure-undead/chapter-99-slaughter',\n",
       " 'https://novelbjn.novelupdates.net/book/pestilence-rise-of-the-pure-undead/chapter-100-piercing-drop',\n",
       " 'https://novelbjn.novelupdates.net/book/pestilence-rise-of-the-pure-undead/chapter-101-ones-delusions',\n",
       " 'https://novelbjn.novelupdates.net/book/pestilence-rise-of-the-pure-undead/chapter-102-reminder-of-the-basics',\n",
       " 'https://novelbjn.novelupdates.net/book/pestilence-rise-of-the-pure-undead/chapter-103-stumping-question',\n",
       " 'https://novelbjn.novelupdates.net/book/pestilence-rise-of-the-pure-undead/chapter-104-talkative',\n",
       " 'https://novelbjn.novelupdates.net/book/pestilence-rise-of-the-pure-undead/chapter-105-look-over-here',\n",
       " 'https://novelbjn.novelupdates.net/book/pestilence-rise-of-the-pure-undead/chapter-106-weafewand',\n",
       " 'https://novelbjn.novelupdates.net/book/pestilence-rise-of-the-pure-undead/chapter-107-dealing-in-death',\n",
       " 'https://novelbjn.novelupdates.net/book/pestilence-rise-of-the-pure-undead/chapter-108-speed-reading',\n",
       " 'https://novelbjn.novelupdates.net/book/pestilence-rise-of-the-pure-undead/chapter-109-blood-angel',\n",
       " 'https://novelbjn.novelupdates.net/book/pestilence-rise-of-the-pure-undead/chapter-110-wandering-slaughter',\n",
       " 'https://novelbjn.novelupdates.net/book/pestilence-rise-of-the-pure-undead/chapter-111-two-killers-one-lasagna',\n",
       " 'https://novelbjn.novelupdates.net/book/pestilence-rise-of-the-pure-undead/chapter-112-deal',\n",
       " 'https://novelbjn.novelupdates.net/book/pestilence-rise-of-the-pure-undead/chapter-113-quick-job',\n",
       " 'https://novelbjn.novelupdates.net/book/pestilence-rise-of-the-pure-undead/chapter-114-dealings-en-masse',\n",
       " 'https://novelbjn.novelupdates.net/book/pestilence-rise-of-the-pure-undead/chapter-115-monsters',\n",
       " 'https://novelbjn.novelupdates.net/book/pestilence-rise-of-the-pure-undead/chapter-116-corpse-betrayal',\n",
       " 'https://novelbjn.novelupdates.net/book/pestilence-rise-of-the-pure-undead/chapter-117-just',\n",
       " 'https://novelbjn.novelupdates.net/book/pestilence-rise-of-the-pure-undead/chapter-118-promise-to-kill',\n",
       " 'https://novelbjn.novelupdates.net/book/pestilence-rise-of-the-pure-undead/chapter-119-three-unwanteds',\n",
       " 'https://novelbjn.novelupdates.net/book/pestilence-rise-of-the-pure-undead/chapter-120-physical-exercise',\n",
       " 'https://novelbjn.novelupdates.net/book/pestilence-rise-of-the-pure-undead/chapter-121-softhearted-lunacy',\n",
       " 'https://novelbjn.novelupdates.net/book/pestilence-rise-of-the-pure-undead/chapter-122-snowy-mountains',\n",
       " 'https://novelbjn.novelupdates.net/book/pestilence-rise-of-the-pure-undead/chapter-123-chilling',\n",
       " 'https://novelbjn.novelupdates.net/book/pestilence-rise-of-the-pure-undead/chapter-124-one-problem-to-another',\n",
       " 'https://novelbjn.novelupdates.net/book/pestilence-rise-of-the-pure-undead/chapter-125-an-old-sight',\n",
       " 'https://novelbjn.novelupdates.net/book/pestilence-rise-of-the-pure-undead/chapter-126-mist',\n",
       " 'https://novelbjn.novelupdates.net/book/pestilence-rise-of-the-pure-undead/chapter-127-envy',\n",
       " 'https://novelbjn.novelupdates.net/book/pestilence-rise-of-the-pure-undead/chapter-128-sand',\n",
       " 'https://novelbjn.novelupdates.net/book/pestilence-rise-of-the-pure-undead/chapter-129-legion',\n",
       " 'https://novelbjn.novelupdates.net/book/pestilence-rise-of-the-pure-undead/chapter-130-strongholds',\n",
       " 'https://novelbjn.novelupdates.net/book/pestilence-rise-of-the-pure-undead/chapter-131-colourful',\n",
       " 'https://novelbjn.novelupdates.net/book/pestilence-rise-of-the-pure-undead/chapter-132-muho-chitai',\n",
       " 'https://novelbjn.novelupdates.net/book/pestilence-rise-of-the-pure-undead/chapter-133-nosy-hand',\n",
       " 'https://novelbjn.novelupdates.net/book/pestilence-rise-of-the-pure-undead/chapter-134-adorable',\n",
       " 'https://novelbjn.novelupdates.net/book/pestilence-rise-of-the-pure-undead/chapter-135-lady-syklon',\n",
       " 'https://novelbjn.novelupdates.net/book/pestilence-rise-of-the-pure-undead/chapter-136-whispers',\n",
       " 'https://novelbjn.novelupdates.net/book/pestilence-rise-of-the-pure-undead/chapter-137-divide-and-conquer',\n",
       " 'https://novelbjn.novelupdates.net/book/pestilence-rise-of-the-pure-undead/chapter-138-basement-and-discovery',\n",
       " 'https://novelbjn.novelupdates.net/book/pestilence-rise-of-the-pure-undead/chapter-139-three-favourites',\n",
       " 'https://novelbjn.novelupdates.net/book/pestilence-rise-of-the-pure-undead/chapter-140-monkeys',\n",
       " 'https://novelbjn.novelupdates.net/book/pestilence-rise-of-the-pure-undead/chapter-141-well-thats-awkward',\n",
       " 'https://novelbjn.novelupdates.net/book/pestilence-rise-of-the-pure-undead/chapter-142-elite',\n",
       " 'https://novelbjn.novelupdates.net/book/pestilence-rise-of-the-pure-undead/chapter-143-friendly-fire',\n",
       " 'https://novelbjn.novelupdates.net/book/pestilence-rise-of-the-pure-undead/chapter-144-eye-of-the-storm',\n",
       " 'https://novelbjn.novelupdates.net/book/pestilence-rise-of-the-pure-undead/chapter-145-charred-black',\n",
       " 'https://novelbjn.novelupdates.net/book/pestilence-rise-of-the-pure-undead/chapter-146-the-burning',\n",
       " 'https://novelbjn.novelupdates.net/book/pestilence-rise-of-the-pure-undead/chapter-147-learning',\n",
       " 'https://novelbjn.novelupdates.net/book/pestilence-rise-of-the-pure-undead/chapter-148-paint-it-red',\n",
       " 'https://novelbjn.novelupdates.net/book/pestilence-rise-of-the-pure-undead/chapter-149-skeletons-new-clothes',\n",
       " 'https://novelbjn.novelupdates.net/book/pestilence-rise-of-the-pure-undead/chapter-150-putrid-ploy',\n",
       " 'https://novelbjn.novelupdates.net/book/pestilence-rise-of-the-pure-undead/chapter-151-arrogance',\n",
       " 'https://novelbjn.novelupdates.net/book/pestilence-rise-of-the-pure-undead/chapter-152-walk-in',\n",
       " 'https://novelbjn.novelupdates.net/book/pestilence-rise-of-the-pure-undead/chapter-153-release-the-beast',\n",
       " 'https://novelbjn.novelupdates.net/book/pestilence-rise-of-the-pure-undead/chapter-154-one-punch',\n",
       " 'https://novelbjn.novelupdates.net/book/pestilence-rise-of-the-pure-undead/chapter-155-clapping',\n",
       " 'https://novelbjn.novelupdates.net/book/pestilence-rise-of-the-pure-undead/chapter-156-the-graveyard',\n",
       " 'https://novelbjn.novelupdates.net/book/pestilence-rise-of-the-pure-undead/chapter-157-parting-gift',\n",
       " 'https://novelbjn.novelupdates.net/book/pestilence-rise-of-the-pure-undead/chapter-158-preparation',\n",
       " 'https://novelbjn.novelupdates.net/book/pestilence-rise-of-the-pure-undead/chapter-159-impressive-smoothness',\n",
       " 'https://novelbjn.novelupdates.net/book/pestilence-rise-of-the-pure-undead/chapter-160-library-talk',\n",
       " 'https://novelbjn.novelupdates.net/book/pestilence-rise-of-the-pure-undead/chapter-161-spar',\n",
       " 'https://novelbjn.novelupdates.net/book/pestilence-rise-of-the-pure-undead/chapter-162-talents',\n",
       " 'https://novelbjn.novelupdates.net/book/pestilence-rise-of-the-pure-undead/chapter-163-hidden-blade',\n",
       " 'https://novelbjn.novelupdates.net/book/pestilence-rise-of-the-pure-undead/chapter-164-lonely-old-man']"
      ]
     },
     "execution_count": 4,
     "metadata": {},
     "output_type": "execute_result"
    }
   ],
   "source": [
    "links"
   ]
  },
  {
   "cell_type": "code",
   "execution_count": 5,
   "metadata": {},
   "outputs": [
    {
     "data": {
      "text/plain": [
       "(62,\n",
       " 'https://novelbjn.novelupdates.net/book/pestilence-rise-of-the-pure-undead/chapter-63-double')"
      ]
     },
     "execution_count": 5,
     "metadata": {},
     "output_type": "execute_result"
    }
   ],
   "source": [
    "list(enumerate(links))[62]"
   ]
  },
  {
   "cell_type": "code",
   "execution_count": 6,
   "metadata": {},
   "outputs": [],
   "source": [
    "links = list(map(lambda x: re.sub(r'(.*:\\/\\/.*?\\/)', 'https://novelbjn.novelmagic.org/', x), links))"
   ]
  },
  {
   "cell_type": "code",
   "execution_count": 7,
   "metadata": {},
   "outputs": [],
   "source": [
    "book = []"
   ]
  },
  {
   "cell_type": "code",
   "execution_count": 8,
   "metadata": {},
   "outputs": [],
   "source": [
    "start = 0\n",
    "start_book = len(links) - len(links[start:])"
   ]
  },
  {
   "cell_type": "code",
   "execution_count": 9,
   "metadata": {},
   "outputs": [
    {
     "data": {
      "application/vnd.jupyter.widget-view+json": {
       "model_id": "025e6faf7ca24c5c8ecc1d05ce508708",
       "version_major": 2,
       "version_minor": 0
      },
      "text/plain": [
       "  0%|          | 0/164 [00:00<?, ?it/s]"
      ]
     },
     "metadata": {},
     "output_type": "display_data"
    }
   ],
   "source": [
    "for url in tqdm(links[start:]):\n",
    "    headers = {\n",
    "        'user-agent': 'Mozilla/5.0 (Windows NT 10.0; Win64; x64) AppleWebKit/537.36 (KHTML, like Gecko) Chrome/127.0.0.0 Safari/537.36',\n",
    "    }\n",
    "\n",
    "    for _ in range(5):\n",
    "        try:\n",
    "            res_page = requests.get(url, headers=headers, timeout=20)\n",
    "        except requests.exceptions.Timeout:\n",
    "            continue\n",
    "        except requests.exceptions.ConnectionError:\n",
    "            continue\n",
    "        else:\n",
    "            break\n",
    "    else:\n",
    "        raise(Exception('stop'))\n",
    "\n",
    "    page = BS(res_page.text, 'html.parser').find('div', id='chr-content')\n",
    "    \n",
    "\n",
    "    \n",
    "    paragraphs = BS(res_page.text, 'html.parser').find('div', id='chr-content').get_text(separator='\\n', strip=True).split('\\n')\n",
    "    book.append(paragraphs)"
   ]
  },
  {
   "cell_type": "code",
   "execution_count": 10,
   "metadata": {},
   "outputs": [
    {
     "data": {
      "text/plain": [
       "164"
      ]
     },
     "execution_count": 10,
     "metadata": {},
     "output_type": "execute_result"
    }
   ],
   "source": [
    "len(book)"
   ]
  },
  {
   "cell_type": "code",
   "execution_count": 11,
   "metadata": {},
   "outputs": [],
   "source": [
    "book = pd.Series(book).drop_duplicates().to_list()"
   ]
  },
  {
   "cell_type": "code",
   "execution_count": 12,
   "metadata": {},
   "outputs": [],
   "source": [
    "def _worker(pool_list: tuple[str, tqdm]) -> str:\n",
    "    queue, pbar = pool_list\n",
    "    if not queue.strip():\n",
    "        pbar.update(1)\n",
    "        return ''\n",
    "    yt = YandexFreeTranslate(api = \"ios\")\n",
    "    \n",
    "    for _ in range(10):\n",
    "        try:\n",
    "            text = yt.translate(\"en\", \"ru\", queue)\n",
    "        except Exception:\n",
    "            sleep(0.5)\n",
    "            continue\n",
    "        else:\n",
    "            break\n",
    "    else:\n",
    "        text = queue\n",
    "        pbar.write(str(queue))\n",
    "    pbar.update(1)\n",
    "    return text\n",
    "    \n",
    "\n",
    "def run_translate(lst: list[str], pbar: tqdm)-> list[str]:\n",
    "    pbar.reset(len(lst))\n",
    "    pool_list = list(zip(lst, [pbar]*len(lst)))\n",
    "    with ThreadPool(8) as pool:\n",
    "        workreturn = pool.map(_worker, pool_list)\n",
    "    return workreturn"
   ]
  },
  {
   "cell_type": "code",
   "execution_count": 13,
   "metadata": {},
   "outputs": [],
   "source": [
    "new_book = []"
   ]
  },
  {
   "cell_type": "code",
   "execution_count": 14,
   "metadata": {},
   "outputs": [
    {
     "data": {
      "application/vnd.jupyter.widget-view+json": {
       "model_id": "d9bf26f11ffb4907a288230dada46a2f",
       "version_major": 2,
       "version_minor": 0
      },
      "text/plain": [
       "page: 0it [00:00, ?it/s]"
      ]
     },
     "metadata": {},
     "output_type": "display_data"
    },
    {
     "data": {
      "application/vnd.jupyter.widget-view+json": {
       "model_id": "43b3dcc0d54c4e50864387d87e97d1fc",
       "version_major": 2,
       "version_minor": 0
      },
      "text/plain": [
       "row: 0it [00:00, ?it/s]"
      ]
     },
     "metadata": {},
     "output_type": "display_data"
    }
   ],
   "source": [
    "pbar1 = tqdm(desc='page')\n",
    "pbar2 = tqdm(desc='row')\n",
    "pbar1.reset(len(links[start:]))\n",
    "for index, page in list(enumerate(book, start=start_book)):\n",
    "    try:\n",
    "        new_page = run_translate(page, pbar2)\n",
    "        new_book.append(new_page)\n",
    "    except Exception:\n",
    "        print(index)\n",
    "        break\n",
    "    pbar1.update()\n",
    "pbar1.close()\n",
    "pbar2.close()\n",
    "    "
   ]
  },
  {
   "cell_type": "code",
   "execution_count": 15,
   "metadata": {},
   "outputs": [],
   "source": [
    "# Функция для преобразования страницы в HTML\n",
    "def page_to_html(page, title):\n",
    "    content_lines = page[:]\n",
    "    # Формирование HTML-кода\n",
    "    html = f\"<h1>{title}</h1>\"\n",
    "    for line in content_lines:\n",
    "        html += f\"<p>{line}</p>\"\n",
    "    return html\n",
    "\n",
    "\n",
    "title = name\n",
    "\n",
    "# Создание новой книги\n",
    "epub_book = epub.EpubBook()\n",
    "\n",
    "# Установка метаданных\n",
    "epub_book.set_identifier(f\"id{randint(100000,1000000)}\")\n",
    "epub_book.set_title(title)\n",
    "epub_book.set_language(\"ru\")\n",
    "\n",
    "# Автор\n",
    "epub_book.add_author(\"None\")\n",
    "# epub_book.spine.append('nav')\n",
    "# Обработка каждой страницы\n",
    "for i, page in enumerate(new_book, start=start_book):\n",
    "    # Создание главы\n",
    "    chapter_title = f'Глава {i+1:04d}'\n",
    "    chapter_content = page_to_html(page, chapter_title)\n",
    "    \n",
    "    chapter = epub.EpubHtml(title=chapter_title, file_name=f'chap_{i+1:04d}.xhtml', lang='ru')\n",
    "    chapter.content = chapter_content\n",
    "    \n",
    "    epub_book.add_item(chapter)\n",
    "    \n",
    "    # Добавление в оглавление\n",
    "    epub_book.toc.append(chapter)\n",
    "    # Упаковка всех глав в книгу\n",
    "    epub_book.spine.append(chapter)\n",
    "\n",
    "\n",
    "# Добавление оглавления\n",
    "epub_book.add_item(epub.EpubNcx())\n",
    "epub_book.add_item(epub.EpubNav())\n",
    "\n",
    "# Сохранение книги\n",
    "epub.write_epub(folder.joinpath(f'{name}.epub'), epub_book)\n"
   ]
  }
 ],
 "metadata": {
  "kernelspec": {
   "display_name": "Python 3",
   "language": "python",
   "name": "python3"
  },
  "language_info": {
   "codemirror_mode": {
    "name": "ipython",
    "version": 3
   },
   "file_extension": ".py",
   "mimetype": "text/x-python",
   "name": "python",
   "nbconvert_exporter": "python",
   "pygments_lexer": "ipython3",
   "version": "3.13.1"
  }
 },
 "nbformat": 4,
 "nbformat_minor": 2
}
