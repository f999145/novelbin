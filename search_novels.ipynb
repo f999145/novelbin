{
 "cells": [
  {
   "cell_type": "code",
   "execution_count": 1,
   "metadata": {},
   "outputs": [],
   "source": [
    "import requests\n",
    "from bs4 import BeautifulSoup as BS\n",
    "from itertools import chain\n",
    "import re\n",
    "import pandas as pd\n",
    "from tqdm.notebook import tqdm"
   ]
  },
  {
   "cell_type": "code",
   "execution_count": 59,
   "metadata": {},
   "outputs": [],
   "source": [
    "\n",
    "\n",
    "cookies = {\n",
    "    'cf_clearance': 'jJtnI8lqVtOstfwcIvB.Z0qoE3II6i.JL79zlGUYPCI-1736260650-1.2.1.1-FLAxztNG9SntfyWDFiu7p6EaImIpl.c0tsePsvTv_pEwYp_FVZCtZCuV4y1gnYuKZgIT0ULOLYWG2MNSEoXG_EqYQiow_jdBh2sGtfXZGRqz4eyDDW.FffjvDIZLlF8YaTJS8m6IFHYS34AyvaFeq5KxzG0fRNIZnpKlH6BxFQvIisCpVSw9MKJz3RlZscgfWeB7rIxI3b3gK1MRsVYCltUrXbWVz9OsRMt5iB.DCxFoi9zpYoFlMDnmTR8eai6.mKBykrXJry8.NTuvJPpiyKLW27T_G3yfN.RMQeVosL.mY_Tsid3vknCsYJypDMjqA1NjbKZcPneZkHx527BSGV_7q6rqumocXrjykSau6JUdn6iifEq4lDNcqQ.AKohh',\n",
    "    '_ga_15YCML7VSC': 'GS1.1.1736260651.1.0.1736260651.0.0.0',\n",
    "    '_ga': 'GA1.1.2143400481.1736260651',\n",
    "}\n",
    "\n",
    "headers = {\n",
    "    'accept': 'text/html,application/xhtml+xml,application/xml;q=0.9,image/avif,image/webp,image/apng,*/*;q=0.8,application/signed-exchange;v=b3;q=0.7',\n",
    "    'accept-language': 'ru-RU,ru;q=0.9,en-US;q=0.8,en;q=0.7',\n",
    "    'cache-control': 'max-age=0',\n",
    "    # 'cookie': 'cf_clearance=jJtnI8lqVtOstfwcIvB.Z0qoE3II6i.JL79zlGUYPCI-1736260650-1.2.1.1-FLAxztNG9SntfyWDFiu7p6EaImIpl.c0tsePsvTv_pEwYp_FVZCtZCuV4y1gnYuKZgIT0ULOLYWG2MNSEoXG_EqYQiow_jdBh2sGtfXZGRqz4eyDDW.FffjvDIZLlF8YaTJS8m6IFHYS34AyvaFeq5KxzG0fRNIZnpKlH6BxFQvIisCpVSw9MKJz3RlZscgfWeB7rIxI3b3gK1MRsVYCltUrXbWVz9OsRMt5iB.DCxFoi9zpYoFlMDnmTR8eai6.mKBykrXJry8.NTuvJPpiyKLW27T_G3yfN.RMQeVosL.mY_Tsid3vknCsYJypDMjqA1NjbKZcPneZkHx527BSGV_7q6rqumocXrjykSau6JUdn6iifEq4lDNcqQ.AKohh; _ga_15YCML7VSC=GS1.1.1736260651.1.0.1736260651.0.0.0; _ga=GA1.1.2143400481.1736260651',\n",
    "    'priority': 'u=0, i',\n",
    "    'sec-ch-ua': '\"Google Chrome\";v=\"131\", \"Chromium\";v=\"131\", \"Not_A Brand\";v=\"24\"',\n",
    "    'sec-ch-ua-mobile': '?0',\n",
    "    'sec-ch-ua-platform': '\"Windows\"',\n",
    "    'sec-fetch-dest': 'document',\n",
    "    'sec-fetch-mode': 'navigate',\n",
    "    'sec-fetch-site': 'none',\n",
    "    'sec-fetch-user': '?1',\n",
    "    'upgrade-insecure-requests': '1',\n",
    "    'user-agent': 'Mozilla/5.0 (Windows NT 10.0; Win64; x64) AppleWebKit/537.36 (KHTML, like Gecko) Chrome/131.0.0.0 Safari/537.36',\n",
    "}\n",
    "\n",
    "params = {\n",
    "    'page': '1',\n",
    "}\n",
    "\n",
    "response = requests.get('https://novelbin.com/sort/completed', params=params, \n",
    "                        # cookies=cookies, headers=headers\n",
    "                        )"
   ]
  },
  {
   "cell_type": "code",
   "execution_count": 14,
   "metadata": {},
   "outputs": [
    {
     "data": {
      "application/vnd.jupyter.widget-view+json": {
       "model_id": "6e37db8537004945bd97f542cd4daf5e",
       "version_major": 2,
       "version_minor": 0
      },
      "text/plain": [
       "  0%|          | 0/86 [00:00<?, ?it/s]"
      ]
     },
     "metadata": {},
     "output_type": "display_data"
    },
    {
     "name": "stdout",
     "output_type": "stream",
     "text": [
      "0 To Hell With Being a Hero! Afterword ( a year ago )\n",
      "0 Ze Tian Ji Afterword ( a year ago )\n",
      "7 Stop, Friendly Fire! afterword ( a year ago )\n",
      "8 World of Cultivation Nine Hundred and Fifteen – The Ending ( a year ago )\n",
      "11 Kumo Desu ga, Nani ka? Epilogue ( a year ago )\n",
      "16 The Charm of Soul Pets Epilogue: She’s in a Certain Space-time ( a year ago )\n",
      "0 Rebirth of the Thief Who Roamed the World Message From the Translation Team ( a year ago )\n",
      "2 The Second Coming of Gluttony Afterword ( a year ago )\n",
      "7 Card Room Wine and Sugar - Extra Eight ( a year ago )\n"
     ]
    }
   ],
   "source": [
    "novels_list = []\n",
    "for page in tqdm(list(range(1,87))):\n",
    "    params = {\n",
    "        'page': f'{page}',\n",
    "    }\n",
    "\n",
    "    response = requests.get('https://novelbin.com/sort/completed', params=params, \n",
    "                            # cookies=cookies, headers=headers\n",
    "                            )\n",
    "\n",
    "\n",
    "\n",
    "    soup =  BS(response.text, 'html.parser')\n",
    "    data_page = (soup\n",
    "                    .find('main', id='container')\n",
    "                    .find('div', id='list-page')\n",
    "                    .find('div', attrs={'class': ['list', 'list-novel']})\n",
    "                    .find_all('div', attrs={'class': ['row']})\n",
    "                    )\n",
    "\n",
    "    row: BS\n",
    "    for index, row in enumerate(data_page):\n",
    "        href, title = row.find('h3', attrs={'class': ['novel-title']}).find('a').attrs.values()\n",
    "        \n",
    "        markers = (set(chain.from_iterable(\n",
    "                    map(lambda x: x.attrs.get('class', []), row\n",
    "                                                            .find('h3', attrs={'class': ['novel-title']})\n",
    "                                                            .find_next_siblings('span'))\n",
    "                    )))\n",
    "        \n",
    "        new, full, hot = False, False, False\n",
    "        if 'label-new' in markers:\n",
    "            new = True\n",
    "        if 'label-full' in markers:\n",
    "            full = True\n",
    "        if 'label-hot' in markers:\n",
    "            hot = True\n",
    "        \n",
    "        text = row.find('div', attrs={'class': ['text-info']}).find('a').get('title')\n",
    "        pattern = r'^\\D*(\\d+)'\n",
    "        try:\n",
    "            chapters = int(re.findall(pattern, text)[0])\n",
    "        except IndexError as e:\n",
    "            print(index, title, text)\n",
    "            chapters = 0\n",
    "\n",
    "\n",
    "\n",
    "        novels_list.append((title, new, full, hot, chapters, href))\n",
    "\n"
   ]
  },
  {
   "cell_type": "code",
   "execution_count": 16,
   "metadata": {},
   "outputs": [],
   "source": [
    "df = pd.DataFrame(novels_list, columns=['title', 'new', 'full', 'hot', 'chapters', 'href'])"
   ]
  },
  {
   "cell_type": "code",
   "execution_count": 19,
   "metadata": {},
   "outputs": [],
   "source": [
    "df.to_excel('test.xlsx')"
   ]
  }
 ],
 "metadata": {
  "kernelspec": {
   "display_name": "Python 3",
   "language": "python",
   "name": "python3"
  },
  "language_info": {
   "codemirror_mode": {
    "name": "ipython",
    "version": 3
   },
   "file_extension": ".py",
   "mimetype": "text/x-python",
   "name": "python",
   "nbconvert_exporter": "python",
   "pygments_lexer": "ipython3",
   "version": "3.13.1"
  }
 },
 "nbformat": 4,
 "nbformat_minor": 2
}
