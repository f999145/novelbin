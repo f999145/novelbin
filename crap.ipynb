{
 "cells": [
  {
   "cell_type": "code",
   "execution_count": 1,
   "metadata": {},
   "outputs": [],
   "source": [
    "import undetected_chromedriver as uc\n",
    "from time import sleep as time_sleep\n",
    "from bs4 import BeautifulSoup as BS\n",
    "import pandas as pd\n",
    "from os.path import join as os_path_join\n",
    "from os import mkdir as os_mkdir\n",
    "import requests"
   ]
  },
  {
   "cell_type": "code",
   "execution_count": null,
   "metadata": {},
   "outputs": [],
   "source": [
    "# https://novelbin.com/b/shadow-slave\n",
    "\n",
    "# https://novelbin.com/b/strongest-necromancer-of-heavens-gate"
   ]
  },
  {
   "cell_type": "code",
   "execution_count": 2,
   "metadata": {},
   "outputs": [
    {
     "name": "stdout",
     "output_type": "stream",
     "text": [
      "shadow-slave\n",
      "https://novelbin.com/ajax/chapter-option?novelId=shadow-slave&currentChapterId\n"
     ]
    }
   ],
   "source": [
    "url = '''\n",
    "\n",
    "https://novelbin.com/b/shadow-slave\n",
    "\n",
    "'''.strip()\n",
    "host = '/'.join(url.split('/', maxsplit=3)[:3])\n",
    "name_title = url.split('/')[-1]\n",
    "print(name_title)\n",
    "\n",
    "chapters_link = f'{host}/ajax/chapter-option?novelId={name_title}&currentChapterId'\n",
    "print(chapters_link)"
   ]
  },
  {
   "cell_type": "code",
   "execution_count": 3,
   "metadata": {},
   "outputs": [
    {
     "name": "stdout",
     "output_type": "stream",
     "text": [
      "Всего ссылок 812\n",
      "Последняя ссылка:\n",
      "https://novelbin.com/b/shadow-slave/chapter-812-naval-convoy\n"
     ]
    }
   ],
   "source": [
    "list_links = list()\n",
    "\n",
    "tt = requests.get(chapters_link)\n",
    "links_value = BS(tt.text, 'html.parser')\n",
    "tb_list = links_value.find_all('option')\n",
    "elem : BS\n",
    "for elem in tb_list:\n",
    "    list_links.append(elem.get('value'))\n",
    "print('Всего ссылок',len(list_links))\n",
    "print('Последняя ссылка:')\n",
    "print(list_links[-1])"
   ]
  },
  {
   "cell_type": "code",
   "execution_count": 4,
   "metadata": {},
   "outputs": [
    {
     "name": "stdout",
     "output_type": "stream",
     "text": [
      "yes\n"
     ]
    }
   ],
   "source": [
    "driver = uc.Chrome()\n",
    "driver.get(host)\n",
    "time_sleep(1)\n",
    "driver.get(url)\n",
    "for _ in range(200):\n",
    "    page = driver.page_source\n",
    "    if not 'cloudflare.com' in page:\n",
    "        break\n",
    "    else:\n",
    "        time_sleep(1)\n",
    "else:\n",
    "    driver.quit()\n",
    "print('yes')\n",
    "\n"
   ]
  },
  {
   "cell_type": "code",
   "execution_count": 5,
   "metadata": {},
   "outputs": [
    {
     "data": {
      "text/plain": [
       "14"
      ]
     },
     "execution_count": 5,
     "metadata": {},
     "output_type": "execute_result"
    }
   ],
   "source": [
    "book_eng = list()\n",
    "\n",
    "page_start = 798\n",
    "\n",
    "for link in list_links[page_start:]:\n",
    "    driver.get(link)\n",
    "    for _ in range(200):\n",
    "        page = driver.page_source\n",
    "        if not 'cloudflare.com' in page:\n",
    "            break\n",
    "        else:\n",
    "            time_sleep(1)\n",
    "    else:\n",
    "        driver.quit()\n",
    "    time_sleep(0.5)\n",
    "    soup = BS(page, 'html.parser')\n",
    "    novel_title = soup.find(attrs={'class':'novel-title'})\n",
    "    content = soup.find(attrs={'id':'chr-content'})\n",
    "    \n",
    "    contents = content.find_all('p')\n",
    "    \n",
    "    content_list = list()\n",
    "    el: BS\n",
    "    for el in contents:\n",
    "        content_list.append(el.get_text())\n",
    "    text = '\\n'.join(content_list)\n",
    "    book_eng.append(text)\n",
    "len(book_eng)"
   ]
  },
  {
   "cell_type": "code",
   "execution_count": 6,
   "metadata": {},
   "outputs": [],
   "source": [
    "driver.quit()"
   ]
  },
  {
   "cell_type": "code",
   "execution_count": 7,
   "metadata": {},
   "outputs": [],
   "source": [
    "book_eng_full = '\\n'.join(book_eng)"
   ]
  },
  {
   "cell_type": "code",
   "execution_count": 8,
   "metadata": {},
   "outputs": [],
   "source": [
    "# clean text:\n",
    "\n",
    "book_eng_full = book_eng_full.replace('6054d257f56b520818c0fb96','')\n",
    "book_eng_full = book_eng_full.replace('                  Ads by PubFuture','')\n",
    "book_eng_full = book_eng_full.replace('The source of this content is','')\n",
    "book_eng_full = book_eng_full.replace('\\n\\n','\\n').replace('\\n\\n','\\n').replace('\\n\\n','\\n')"
   ]
  },
  {
   "cell_type": "code",
   "execution_count": 9,
   "metadata": {},
   "outputs": [],
   "source": [
    "with open(\n",
    "    file=f'{name_title}.txt',\n",
    "    mode='w',\n",
    "    encoding='utf-8'\n",
    ") as file:\n",
    "    file.write(book_eng_full)"
   ]
  },
  {
   "cell_type": "code",
   "execution_count": 91,
   "metadata": {},
   "outputs": [],
   "source": [
    "# with open(\n",
    "#     file=f'{name_title}_rus.txt',\n",
    "#     mode='r',\n",
    "#     encoding='utf-8'\n",
    "# ) as file:\n",
    "#     text = file.read()\n",
    "# text = text.replace('вЂ”', '-').replace('вЂ\"', '-').replace('вЂ“', '-')\n",
    "# text = text.replace('вЂ¦', '…,')\n",
    "\n",
    "# with open(\n",
    "#         file=f'{name_title}_rus.txt',\n",
    "#         mode='w',\n",
    "#         encoding='utf-8'\n",
    "#     ) as file:\n",
    "#         file.write(text)"
   ]
  }
 ],
 "metadata": {
  "kernelspec": {
   "display_name": "Python 3",
   "language": "python",
   "name": "python3"
  },
  "language_info": {
   "codemirror_mode": {
    "name": "ipython",
    "version": 3
   },
   "file_extension": ".py",
   "mimetype": "text/x-python",
   "name": "python",
   "nbconvert_exporter": "python",
   "pygments_lexer": "ipython3",
   "version": "3.11.0"
  },
  "orig_nbformat": 4
 },
 "nbformat": 4,
 "nbformat_minor": 2
}
