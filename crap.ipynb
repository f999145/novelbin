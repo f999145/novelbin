{
 "cells": [
  {
   "cell_type": "code",
   "execution_count": 1,
   "metadata": {},
   "outputs": [],
   "source": [
    "import undetected_chromedriver as uc\n",
    "from time import sleep as time_sleep\n",
    "from bs4 import BeautifulSoup as BS\n",
    "import requests"
   ]
  },
  {
   "cell_type": "code",
   "execution_count": 2,
   "metadata": {},
   "outputs": [
    {
     "name": "stdout",
     "output_type": "stream",
     "text": [
      "shadow-slave\n",
      "https://novelbin.com/ajax/chapter-option?novelId=shadow-slave&currentChapterId\n"
     ]
    }
   ],
   "source": [
    "url_list = '''\n",
    "\n",
    "https://novelbin.com/b/shadow-slave\n",
    "https://novelbin.com/b/strongest-necromancer-of-heavens-gate\n",
    "\n",
    "'''.strip().split('\\n')\n",
    "\n",
    "\n",
    "url = url_list[0]\n",
    "\n",
    "host = '/'.join(url.split('/', maxsplit=3)[:3])\n",
    "name_title = url.split('/')[-1]\n",
    "print(name_title)\n",
    "\n",
    "chapters_link = f'{host}/ajax/chapter-option?novelId={name_title}&currentChapterId'\n",
    "print(chapters_link)"
   ]
  },
  {
   "cell_type": "code",
   "execution_count": 3,
   "metadata": {},
   "outputs": [
    {
     "name": "stdout",
     "output_type": "stream",
     "text": [
      "Всего ссылок 827\n",
      "Последняя ссылка:\n",
      "https://novelbin.com/b/shadow-slave/chapter-827-daunting-task\n"
     ]
    }
   ],
   "source": [
    "list_links = list()\n",
    "\n",
    "tt = requests.get(chapters_link)\n",
    "links_value = BS(tt.text, 'html.parser')\n",
    "tb_list = links_value.find_all('option')\n",
    "elem : BS\n",
    "for elem in tb_list:\n",
    "    list_links.append(elem.get('value'))\n",
    "print('Всего ссылок',len(list_links))\n",
    "print('Последняя ссылка:')\n",
    "print(list_links[-1])"
   ]
  },
  {
   "cell_type": "code",
   "execution_count": 13,
   "metadata": {},
   "outputs": [
    {
     "name": "stdout",
     "output_type": "stream",
     "text": [
      "yes\n"
     ]
    }
   ],
   "source": [
    "driver = uc.Chrome()\n",
    "driver.get(host)\n",
    "time_sleep(1)\n",
    "driver.get(url)\n",
    "for _ in range(200):\n",
    "    page = driver.page_source\n",
    "    if not 'cloudflare.com' in page:\n",
    "        break\n",
    "    else:\n",
    "        time_sleep(1)\n",
    "else:\n",
    "    driver.quit()\n",
    "print('yes')\n",
    "\n"
   ]
  },
  {
   "cell_type": "code",
   "execution_count": 14,
   "metadata": {},
   "outputs": [
    {
     "data": {
      "text/plain": [
       "2"
      ]
     },
     "execution_count": 14,
     "metadata": {},
     "output_type": "execute_result"
    }
   ],
   "source": [
    "book_eng = list()\n",
    "\n",
    "page_start = -2\n",
    "\n",
    "for link in list_links[page_start:]:\n",
    "    driver.get(link)\n",
    "    for _ in range(200):\n",
    "        page = driver.page_source\n",
    "        if not 'cloudflare.com' in page:\n",
    "            break\n",
    "        else:\n",
    "            time_sleep(1)\n",
    "    else:\n",
    "        driver.quit()\n",
    "    time_sleep(0.5)\n",
    "    soup = BS(page, 'html.parser')\n",
    "    novel_title = soup.find(attrs={'class':'novel-title'})\n",
    "    content = soup.find(attrs={'id':'chr-content'})\n",
    "    \n",
    "    contents = content.find_all('p')\n",
    "    \n",
    "    content_list = list()\n",
    "    el: BS\n",
    "    for el in contents:\n",
    "        content_list.append(el.get_text())\n",
    "    text = '\\n'.join(content_list)\n",
    "    book_eng.append(text)\n",
    "len(book_eng)"
   ]
  },
  {
   "cell_type": "code",
   "execution_count": 15,
   "metadata": {},
   "outputs": [],
   "source": [
    "driver.quit()"
   ]
  },
  {
   "cell_type": "code",
   "execution_count": 18,
   "metadata": {},
   "outputs": [],
   "source": [
    "book_eng_full = '\\n'.join(book_eng)"
   ]
  },
  {
   "cell_type": "code",
   "execution_count": 16,
   "metadata": {},
   "outputs": [],
   "source": [
    "# clean text:\n",
    "\n",
    "book_eng_full = book_eng_full.replace('6054d257f56b520818c0fb96','')\n",
    "book_eng_full = book_eng_full.replace('                  Ads by PubFuture','')\n",
    "book_eng_full = book_eng_full.replace('The source of this content is','')\n",
    "book_eng_full = book_eng_full.replace('\\n\\n','\\n').replace('\\n\\n','\\n').replace('\\n\\n','\\n')"
   ]
  },
  {
   "cell_type": "code",
   "execution_count": 11,
   "metadata": {},
   "outputs": [],
   "source": [
    "# with open(\n",
    "#     file=f'{name_title}.txt',\n",
    "#     mode='w',\n",
    "#     encoding='utf-8'\n",
    "# ) as file:\n",
    "#     file.write(book_eng_full)"
   ]
  },
  {
   "cell_type": "code",
   "execution_count": 19,
   "metadata": {},
   "outputs": [
    {
     "name": "stderr",
     "output_type": "stream",
     "text": [
      "100%|██████████| 96/96 [00:02<00:00, 38.33it/s]\n"
     ]
    }
   ],
   "source": [
    "from yandexfreetranslate import YandexFreeTranslate\n",
    "from multiprocessing.dummy import Pool as ThreadPool\n",
    "import json\n",
    "from tqdm import tqdm\n",
    "\n",
    "def _worker(que: tuple) -> str:\n",
    "    queue, pbar = que\n",
    "    if not queue:\n",
    "        pbar.update(1)\n",
    "        return ''\n",
    "    yt = YandexFreeTranslate(api = \"ios\")\n",
    "    text = yt.translate(\"en\", \"ru\", queue)\n",
    "    pbar.update(1)\n",
    "    return text\n",
    "\n",
    "def run_translate(lst: list[str])-> list[str]:\n",
    "    with tqdm(total=len(lst) ) as pbar:\n",
    "        l_b = list(zip(lst, ( pbar for _ in range(len(lst)))))\n",
    "        with ThreadPool(30) as pool:\n",
    "            workreturn = pool.map(_worker, l_b)\n",
    "    return workreturn\n",
    "\n",
    "lst = book_eng_full.split('\\n')\n",
    "\n",
    "text_rus = run_translate(lst)\n",
    "\n",
    "text_rus = '\\n'.join(text_rus)\n",
    "\n",
    "with open(\n",
    "    file=f'{name_title}_rus.txt',\n",
    "    mode='w',\n",
    "    encoding='utf-8'\n",
    ") as file:\n",
    "    file.write(text_rus)"
   ]
  },
  {
   "cell_type": "code",
   "execution_count": 12,
   "metadata": {},
   "outputs": [],
   "source": [
    "# with open(\n",
    "#     file=f'{name_title}_rus.txt',\n",
    "#     mode='r',\n",
    "#     encoding='utf-8'\n",
    "# ) as file:\n",
    "#     text = file.read()\n",
    "# text = text.replace('вЂ”', '-').replace('вЂ\"', '-').replace('вЂ“', '-')\n",
    "# text = text.replace('вЂ¦', '…,')\n",
    "\n",
    "# with open(\n",
    "#         file=f'{name_title}_rus.txt',\n",
    "#         mode='w',\n",
    "#         encoding='utf-8'\n",
    "#     ) as file:\n",
    "#         file.write(text)"
   ]
  }
 ],
 "metadata": {
  "kernelspec": {
   "display_name": "Python 3",
   "language": "python",
   "name": "python3"
  },
  "language_info": {
   "codemirror_mode": {
    "name": "ipython",
    "version": 3
   },
   "file_extension": ".py",
   "mimetype": "text/x-python",
   "name": "python",
   "nbconvert_exporter": "python",
   "pygments_lexer": "ipython3",
   "version": "3.11.0"
  },
  "orig_nbformat": 4,
  "vscode": {
   "interpreter": {
    "hash": "07fa51723cfdfdcfd96f4d831e9a58393b5ea734b6a2ccc6da0d746f7dd84b96"
   }
  }
 },
 "nbformat": 4,
 "nbformat_minor": 2
}
